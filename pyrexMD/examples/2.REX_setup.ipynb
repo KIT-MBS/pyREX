{
 "cells": [
  {
   "cell_type": "markdown",
   "id": "3ba255fe",
   "metadata": {},
   "source": [
    "# This jupyter notebook contains a basic example of\n",
    "- how to setup contact-guided REX simulations in `Gromacs` for production run on HPC cluster\n",
    "\n",
    "Note: you should be already familiar with:\n",
    "- setup of MD simulations in `Gromacs`\n",
    "- concept of (normal and contact-guided) REX simulations"
   ]
  },
  {
   "cell_type": "code",
   "execution_count": null,
   "id": "1e084145",
   "metadata": {},
   "outputs": [],
   "source": [
    "%matplotlib notebook\n",
    "\n",
    "from tqdm.notebook import tqdm\n",
    "import numpy as np\n",
    "import matplotlib.pyplot as plt\n",
    "import seaborn as sns\n",
    "import MDAnalysis as mda\n",
    "import pyrexMD.core as core\n",
    "import pyrexMD.misc as misc\n",
    "import pyrexMD.topology as top\n",
    "import pyrexMD.analysis.analysis as ana\n",
    "import pyrexMD.analysis.contacts as con\n",
    "import pyrexMD.analysis.gdt as gdt\n",
    "import pyrexMD.rex as rex\n",
    "import pyrexMD.gmx as gmx\n",
    "import glob\n",
    "misc.apply_matplotlib_rc_settings()"
   ]
  },
  {
   "cell_type": "markdown",
   "id": "f81c2e00",
   "metadata": {},
   "source": [
    "## Setup work directory and paths"
   ]
  },
  {
   "cell_type": "code",
   "execution_count": null,
   "id": "dfe09130",
   "metadata": {},
   "outputs": [],
   "source": [
    "### change if necessary\n",
    "\n",
    "root = f\"files/rex\"\n",
    "root = misc.cd(root)\n",
    "\n",
    "ref_pdb0 = f\"1lmb_Chain4.pdb\"\n",
    "pdbid = ana.get_PDBid(ref_pdb0)\n",
    "\n",
    "#misc.mkdir(f\"./important_files/\")\n",
    "score_fin = f\"{pdbid.upper()}.rr\""
   ]
  },
  {
   "cell_type": "markdown",
   "id": "4e62417d",
   "metadata": {},
   "source": [
    "## Inspect known reference structure"
   ]
  },
  {
   "cell_type": "code",
   "execution_count": null,
   "id": "b7b9159a",
   "metadata": {},
   "outputs": [],
   "source": [
    "u = mda.Universe(ref_pdb0)\n",
    "u\n",
    "tv = core.iPlayer(u)\n",
    "tv()"
   ]
  },
  {
   "cell_type": "markdown",
   "id": "9b2c0c03",
   "metadata": {},
   "source": [
    "## Setup necessary files and folders"
   ]
  },
  {
   "cell_type": "code",
   "execution_count": null,
   "id": "06ce696d",
   "metadata": {},
   "outputs": [],
   "source": [
    "# create ref (apply forcefield)\n",
    "ref_pdb = f\"{misc.get_filedir(ref_pdb0)}/{misc.get_base(ref_pdb0)}_ref.pdb\"\n",
    "ref_pdb = gmx.get_ref_structure(ref_pdb0, ref_pdb)\n",
    "gmx.clean_up(misc.get_filedir(ref_pdb), verbose=False)\n",
    "gmx.clean_up(verbose=False)\n",
    "print()\n",
    "\n",
    "# apply forcefield on decoys\n",
    "decoy_dir = f\"{root}/decoys\"\n",
    "decoy_dir = rex.apply_ff_best_decoys(decoy_dir) # overwrite variable\n",
    "decoy_paths = glob.glob(f\"{decoy_dir}/*pdb\")\n",
    "\n",
    "# assign decoys to rex_i folders\n",
    "rex.assign_best_decoys(decoy_dir, verbose=False)"
   ]
  },
  {
   "cell_type": "markdown",
   "id": "372e5c81",
   "metadata": {},
   "source": [
    "## RESIDUE Analysis (based on rex_1 decoy)"
   ]
  },
  {
   "cell_type": "code",
   "execution_count": null,
   "id": "3351a428",
   "metadata": {},
   "outputs": [],
   "source": [
    "# quick look at reference model\n",
    "ref0 = mda.Universe(ref_pdb0)\n",
    "tv = core.iPlayer(ref0)\n",
    "tv()"
   ]
  },
  {
   "cell_type": "code",
   "execution_count": null,
   "id": "2d5c83d2",
   "metadata": {},
   "outputs": [],
   "source": [
    "# align reference and mobile topologies (shift resids, atomids)\n",
    "ref = mda.Universe(ref_pdb)\n",
    "mobile = mda.Universe(decoy_paths[0])\n",
    "\n",
    "top.align_resids(mobile, ref)"
   ]
  },
  {
   "cell_type": "code",
   "execution_count": null,
   "id": "bd842d4f",
   "metadata": {},
   "outputs": [],
   "source": [
    "# compare residues of mobile and ref\n",
    "top.check_residues(mobile, ref)"
   ]
  },
  {
   "cell_type": "code",
   "execution_count": null,
   "id": "4cf67bc7",
   "metadata": {},
   "outputs": [],
   "source": [
    "# obtain matching selection strings for reference and mobile base \n",
    "# (important if e.g. mobile is part of reference, i.e. not full structure)\n",
    "sel1, sel2 = top.check_matching_selection(mobile, ref, sel=\"protein and name CA\")"
   ]
  },
  {
   "cell_type": "markdown",
   "id": "aba7ad42",
   "metadata": {},
   "source": [
    "## TPR Analysis"
   ]
  },
  {
   "cell_type": "code",
   "execution_count": null,
   "id": "de5a4b87",
   "metadata": {},
   "outputs": [],
   "source": [
    "score_fin = f\"{pdbid.upper()}.rr\"\n",
    "_ = con.plot_DCA_TPR(ref, score_fin, n_DCA=len(ref.residues), DCA_cols=(0,1), pdbid=f\"{pdbid} reference\")"
   ]
  },
  {
   "cell_type": "markdown",
   "id": "b8cc0f27",
   "metadata": {},
   "source": [
    "The figure shows:\n",
    "- blue line: TPR\n",
    "- red line: 75% cutoff threshold (TPR of used number of contacts should be above 75% for contact-guided REX, see  https://doi.org/10.1371/journal.pone.0242072)\n",
    "- orange lines: suggested/guessed optimum number of contacts and the corresponding TPR\n",
    "- orange region: suggested region of interest between L/2 and L contacts\n"
   ]
  },
  {
   "cell_type": "markdown",
   "id": "d31eb11f",
   "metadata": {},
   "source": [
    "## test if all REX pdbs have equal topologies"
   ]
  },
  {
   "cell_type": "code",
   "execution_count": null,
   "id": "4d2375dd",
   "metadata": {},
   "outputs": [],
   "source": [
    "REX_DIRS = rex.get_REX_DIRS(\"./\", realpath=True)\n",
    "REX_PDBS = rex.get_REX_PDBS(\"./\", realpath=True)\n",
    "\n",
    "rex.check_REX_PDBS(REX_PDBS, ref_pdb=ref_pdb)"
   ]
  },
  {
   "cell_type": "code",
   "execution_count": null,
   "id": "9fa03810",
   "metadata": {
    "scrolled": false
   },
   "outputs": [],
   "source": [
    "rex.check2_REX_PDBS(REX_PDBS, ref_pdb=ref_pdb, verbose=False)"
   ]
  },
  {
   "cell_type": "markdown",
   "id": "76f6b35f",
   "metadata": {},
   "source": [
    "## Workflow: get system parameters\n",
    "obtain parameters for REX setup with different start configurations:\n",
    "- fixed box dimension\n",
    "- fixed number of solution molecules"
   ]
  },
  {
   "cell_type": "code",
   "execution_count": null,
   "id": "cf0e7b4b",
   "metadata": {},
   "outputs": [],
   "source": [
    "# dump mdp files (min.mdp, nvt.mdp, npt.mdp, rex.mdp) into cwd\n",
    "# misc.cp(\"path/to/mdp/files\", \".\")"
   ]
  },
  {
   "cell_type": "code",
   "execution_count": null,
   "id": "1d3df84a",
   "metadata": {},
   "outputs": [],
   "source": [
    "boxsize, maxsol = rex.WF_get_system_parameters(wdir=\"./rex_0_get_system_parameters/\")"
   ]
  },
  {
   "cell_type": "markdown",
   "id": "e2a42293",
   "metadata": {},
   "source": [
    "## populate replicas with decoys"
   ]
  },
  {
   "cell_type": "code",
   "execution_count": null,
   "id": "7c42478f",
   "metadata": {},
   "outputs": [],
   "source": [
    "# apply workflow for REX setup\n",
    "rex.WF_REX_setup(rex_dirs=rex_dirs, boxsize=boxsize, maxsol=maxsol, verbose=False, verbose_gmx=False)"
   ]
  },
  {
   "cell_type": "code",
   "execution_count": null,
   "id": "7f03df0f",
   "metadata": {},
   "outputs": [],
   "source": [
    "# apply energy minimization (limit number of steps to 10 for this example)\n",
    "rex.WF_REX_setup_energy_minimization(rex_dirs=rex_dirs, nsteps=10, verbose=False)"
   ]
  },
  {
   "cell_type": "markdown",
   "id": "72e2c1b6",
   "metadata": {},
   "source": [
    "## modify topology:\n",
    "- use rex_1 as template for all replicas\n",
    "(different start configurations but fixed boxsize and fixed number of solution molecules)\n",
    "- add bias contacts to topology"
   ]
  },
  {
   "cell_type": "code",
   "execution_count": null,
   "id": "735e4d76",
   "metadata": {},
   "outputs": [],
   "source": [
    "n_DCA = 70   # check TPR Analysis plot for ideal number\n",
    "misc.cd(root)\n",
    "\n",
    "RES_PAIR, ATOM_PAIR = top.DCA_res2atom_mapping(ref_pdb=ref_pdb, DCA_fin=score_fin, n_DCA=n_DCA, usecols=(0,1), default_dir=\"./important_files\")"
   ]
  },
  {
   "cell_type": "code",
   "execution_count": null,
   "id": "356743ed",
   "metadata": {},
   "outputs": [],
   "source": [
    "# print table with bias contacts (mapping data)\n",
    "misc.cprint(\"\\nRES PAIR    ATOM PAIR\", \"blue\")\n",
    "_ = misc.print_table([RES_PAIR, ATOM_PAIR], spacing=12)"
   ]
  },
  {
   "cell_type": "code",
   "execution_count": null,
   "id": "fc072457",
   "metadata": {},
   "outputs": [],
   "source": [
    "# modify topology of each replica (add bias contacts)\n",
    "for ndx, rex_dir in enumerate(rex_dirs, start=1):\n",
    "    top.DCA_modify_topology(top_fin=f\"{misc.relpath(rex_dir)}/topol.top\", \n",
    "                            DCA_used_fin=f\"important_files/{pdbid.upper()}_DCA_used.txt\",\n",
    "                            k=10, save_as=f\"{misc.relpath(rex_dir)}/topol_mod.top\")\n",
    "    \n",
    "    \n",
    "    # save one topology for reference\n",
    "    if ndx == 1:\n",
    "        misc.cp(f\"{misc.relpath(rex_dir)}/topol_mod.top\", \"./important_files/\")"
   ]
  },
  {
   "cell_type": "markdown",
   "id": "c8c109ea",
   "metadata": {},
   "source": [
    "## prepare REX run files (temps, mdp, tpr)"
   ]
  },
  {
   "cell_type": "code",
   "execution_count": null,
   "id": "3693b226",
   "metadata": {},
   "outputs": [],
   "source": [
    "# generate temperature distrubution and save log file\n",
    "rex_dirs = rex.get_REX_DIRS()\n",
    "rex.prep_REX_temps(T_0=280, n_REX=len(rex_dirs), k=0.006)"
   ]
  },
  {
   "cell_type": "code",
   "execution_count": null,
   "id": "cc09d941",
   "metadata": {},
   "outputs": [],
   "source": [
    "# prepare REX mdp files with temperature distrubution\n",
    "rex.prep_REX_mdp(main_dir=\"./\", n_REX=len(rex_dirs))"
   ]
  },
  {
   "cell_type": "code",
   "execution_count": null,
   "id": "37809d4d",
   "metadata": {},
   "outputs": [],
   "source": [
    "# prepare REX tpr files with modified topology\n",
    "rex.prep_REX_tpr(main_dir=\"./\", n_REX=len(rex_dirs))"
   ]
  },
  {
   "cell_type": "code",
   "execution_count": null,
   "id": "ae771765",
   "metadata": {},
   "outputs": [],
   "source": [
    "# next: upload REX MD files on HPC and execute production run"
   ]
  },
  {
   "cell_type": "code",
   "execution_count": null,
   "id": "071d5745",
   "metadata": {},
   "outputs": [],
   "source": []
  }
 ],
 "metadata": {
  "kernelspec": {
   "display_name": "Python 3",
   "language": "python",
   "name": "python3"
  },
  "language_info": {
   "codemirror_mode": {
    "name": "ipython",
    "version": 3
   },
   "file_extension": ".py",
   "mimetype": "text/x-python",
   "name": "python",
   "nbconvert_exporter": "python",
   "pygments_lexer": "ipython3",
   "version": "3.8.5"
  }
 },
 "nbformat": 4,
 "nbformat_minor": 5
}
