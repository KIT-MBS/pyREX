{
 "cells": [
  {
   "cell_type": "markdown",
   "id": "2dd3d838",
   "metadata": {},
   "source": [
    "# This jupyter notebook contains a basic example of\n",
    "- how to setup contact-guided REX simulations with different starting conformations (\"decoys\" for each individual replica. The production run should be then executed on a HPC cluster.\n",
    "\n",
    "Note: you should be already familiar with:\n",
    "- setup of MD simulations in `Gromacs`\n",
    "- concept of (normal and contact-guided) REX simulations"
   ]
  },
  {
   "cell_type": "code",
   "execution_count": null,
   "id": "bca4fab3",
   "metadata": {},
   "outputs": [],
   "source": [
    "%matplotlib notebook\n",
    "\n",
    "from tqdm.notebook import tqdm\n",
    "import numpy as np\n",
    "import matplotlib.pyplot as plt\n",
    "import MDAnalysis as mda\n",
    "import pyrexMD.core as core\n",
    "import pyrexMD.misc as misc\n",
    "import pyrexMD.topology as top\n",
    "import pyrexMD.analysis.analyze as ana\n",
    "import pyrexMD.analysis.contacts as con\n",
    "import pyrexMD.analysis.gdt as gdt\n",
    "import pyrexMD.rex as rex\n",
    "import pyrexMD.gmx as gmx\n",
    "import glob"
   ]
  },
  {
   "cell_type": "markdown",
   "id": "0a9b615c",
   "metadata": {},
   "source": [
    "## Setup work directory and paths"
   ]
  },
  {
   "cell_type": "code",
   "execution_count": null,
   "id": "5676aeda",
   "metadata": {},
   "outputs": [],
   "source": [
    "### change if necessary\n",
    "\n",
    "root = f\"files/rex\"\n",
    "root = misc.cd(root)\n",
    "\n",
    "ref_pdb0 = f\"1lmb_Chain4.pdb\"\n",
    "pdbid = ana.get_PDBid(ref_pdb0)\n",
    "\n",
    "#misc.mkdir(f\"./important_files/\")\n",
    "score_fin = f\"{pdbid.upper()}.rr\""
   ]
  },
  {
   "cell_type": "markdown",
   "id": "642036bf",
   "metadata": {},
   "source": [
    "## Inspect known reference structure"
   ]
  },
  {
   "cell_type": "code",
   "execution_count": null,
   "id": "4f363607",
   "metadata": {},
   "outputs": [],
   "source": [
    "u = mda.Universe(ref_pdb0)\n",
    "u\n",
    "tv = core.iPlayer(u)\n",
    "tv()"
   ]
  },
  {
   "cell_type": "markdown",
   "id": "14ecf91b",
   "metadata": {},
   "source": [
    "## Setup necessary files and folders"
   ]
  },
  {
   "cell_type": "code",
   "execution_count": null,
   "id": "27198f3e",
   "metadata": {},
   "outputs": [],
   "source": [
    "# create ref (apply forcefield)\n",
    "ref_pdb = f\"{misc.get_filedir(ref_pdb0)}/{misc.get_base(ref_pdb0)}_ref.pdb\"\n",
    "ref_pdb = gmx.get_ref_structure(ref_pdb0, ref_pdb)\n",
    "gmx.clean_up(misc.get_filedir(ref_pdb), verbose=False)\n",
    "gmx.clean_up(verbose=False)\n",
    "print()\n",
    "\n",
    "# apply forcefield on decoys\n",
    "decoy_dir = f\"{root}/decoys\"\n",
    "decoy_dir = rex.apply_ff_best_decoys(decoy_dir) # overwrite variable\n",
    "decoy_paths = glob.glob(f\"{decoy_dir}/*pdb\")\n",
    "\n",
    "# assign decoys to rex_i folders\n",
    "rex.assign_best_decoys(decoy_dir, verbose=False)"
   ]
  },
  {
   "cell_type": "markdown",
   "id": "2a94b08d",
   "metadata": {},
   "source": [
    "## RESIDUE Analysis (based on rex_1 decoy)"
   ]
  },
  {
   "cell_type": "code",
   "execution_count": null,
   "id": "c4ffc53f",
   "metadata": {},
   "outputs": [],
   "source": [
    "# quick look at reference model\n",
    "ref0 = mda.Universe(ref_pdb0)\n",
    "tv = core.iPlayer(ref0)\n",
    "tv()"
   ]
  },
  {
   "cell_type": "code",
   "execution_count": null,
   "id": "4d9a16e3",
   "metadata": {},
   "outputs": [],
   "source": [
    "# align reference and mobile topologies (shift resids, atomids)\n",
    "ref = mda.Universe(ref_pdb)\n",
    "mobile = mda.Universe(decoy_paths[0])\n",
    "\n",
    "top.align_resids(mobile, ref)"
   ]
  },
  {
   "cell_type": "code",
   "execution_count": null,
   "id": "ed81994c",
   "metadata": {},
   "outputs": [],
   "source": [
    "# compare residues of mobile and ref\n",
    "top.check_residues(mobile, ref)"
   ]
  },
  {
   "cell_type": "code",
   "execution_count": null,
   "id": "c535ad00",
   "metadata": {},
   "outputs": [],
   "source": [
    "# obtain matching selection strings for reference and mobile base \n",
    "# (important if e.g. mobile is part of reference, i.e. not full structure)\n",
    "sel1, sel2 = top.check_matching_selection(mobile, ref, sel=\"protein and name CA\")"
   ]
  },
  {
   "cell_type": "markdown",
   "id": "a026bf6b",
   "metadata": {},
   "source": [
    "## TPR Analysis"
   ]
  },
  {
   "cell_type": "code",
   "execution_count": null,
   "id": "80e3f61d",
   "metadata": {},
   "outputs": [],
   "source": [
    "score_fin = f\"{pdbid.upper()}.rr\"\n",
    "_ = con.plot_DCA_TPR(ref, score_fin, n_DCA=len(ref.residues), DCA_cols=(0,1), pdbid=f\"{pdbid} reference\")"
   ]
  },
  {
   "cell_type": "markdown",
   "id": "bb5e067b",
   "metadata": {},
   "source": [
    "The figure shows:\n",
    "- blue line: TPR\n",
    "- red line: 75% cutoff threshold (TPR of used number of contacts should be above 75% for contact-guided REX, see  https://doi.org/10.1371/journal.pone.0242072)\n",
    "- orange lines: suggested/guessed optimum number of contacts and the corresponding TPR\n",
    "- orange region: suggested region of interest between L/2 and L contacts\n"
   ]
  },
  {
   "cell_type": "markdown",
   "id": "d150a616",
   "metadata": {},
   "source": [
    "## test if all REX pdbs have equal topologies"
   ]
  },
  {
   "cell_type": "code",
   "execution_count": null,
   "id": "14fdf209",
   "metadata": {},
   "outputs": [],
   "source": [
    "REX_DIRS = rex.get_REX_DIRS(\"./\", realpath=True)\n",
    "REX_PDBS = rex.get_REX_PDBS(\"./\", realpath=True)\n",
    "\n",
    "rex.check_REX_PDBS(REX_PDBS, ref_pdb=ref_pdb)"
   ]
  },
  {
   "cell_type": "code",
   "execution_count": null,
   "id": "2faa3582",
   "metadata": {
    "scrolled": false
   },
   "outputs": [],
   "source": [
    "rex.check2_REX_PDBS(REX_PDBS, ref_pdb=ref_pdb, verbose=False)"
   ]
  },
  {
   "cell_type": "markdown",
   "id": "48d30863",
   "metadata": {},
   "source": [
    "## Workflow: get system parameters\n",
    "obtain parameters for REX setup with different start configurations:\n",
    "- fixed box dimension\n",
    "- fixed number of solution molecules"
   ]
  },
  {
   "cell_type": "code",
   "execution_count": null,
   "id": "43f7be18",
   "metadata": {},
   "outputs": [],
   "source": [
    "# dump mdp files (min.mdp, nvt.mdp, npt.mdp, rex.mdp) into working directory\n",
    "# misc.cp(\"path/to/mdp/files\", \".\")"
   ]
  },
  {
   "cell_type": "code",
   "execution_count": null,
   "id": "6503bc17",
   "metadata": {},
   "outputs": [],
   "source": [
    "boxsize, maxsol = rex.WF_get_system_parameters(wdir=\"./rex_0_get_system_parameters/\")"
   ]
  },
  {
   "cell_type": "markdown",
   "id": "0fb9f782",
   "metadata": {},
   "source": [
    "## populate replicas with decoys"
   ]
  },
  {
   "cell_type": "code",
   "execution_count": null,
   "id": "d11b5570",
   "metadata": {},
   "outputs": [],
   "source": [
    "# apply workflow for REX setup\n",
    "rex.WF_REX_setup(rex_dirs=rex_dirs, boxsize=boxsize, maxsol=maxsol, verbose=False, verbose_gmx=False)"
   ]
  },
  {
   "cell_type": "code",
   "execution_count": null,
   "id": "a51a1de7",
   "metadata": {},
   "outputs": [],
   "source": [
    "# apply energy minimization (limit number of steps to 10 for this example)\n",
    "rex.WF_REX_setup_energy_minimization(rex_dirs=rex_dirs, nsteps=10, verbose=False)"
   ]
  },
  {
   "cell_type": "markdown",
   "id": "3a22b28b",
   "metadata": {},
   "source": [
    "## modify topology:\n",
    "- use rex_1 as template for all replicas\n",
    "(different start configurations but fixed box size and fixed number of solution molecules)\n",
    "- add bias contacts to topology"
   ]
  },
  {
   "cell_type": "code",
   "execution_count": null,
   "id": "faf27a36",
   "metadata": {},
   "outputs": [],
   "source": [
    "n_DCA = 70   # check TPR Analysis plot for ideal number\n",
    "misc.cd(root)\n",
    "\n",
    "RES_PAIR, ATOM_PAIR = top.DCA_res2atom_mapping(ref_pdb=ref_pdb, DCA_fin=score_fin, n_DCA=n_DCA, usecols=(0,1), default_dir=\"./important_files\")"
   ]
  },
  {
   "cell_type": "code",
   "execution_count": null,
   "id": "f69a278b",
   "metadata": {},
   "outputs": [],
   "source": [
    "# print table with bias contacts (mapping data)\n",
    "misc.cprint(\"\\nRES PAIR    ATOM PAIR\", \"blue\")\n",
    "_ = misc.print_table([RES_PAIR, ATOM_PAIR], spacing=12)"
   ]
  },
  {
   "cell_type": "code",
   "execution_count": null,
   "id": "59078c84",
   "metadata": {},
   "outputs": [],
   "source": [
    "# modify topology of each replica (add bias contacts)\n",
    "for ndx, rex_dir in enumerate(rex_dirs, start=1):\n",
    "    top.DCA_modify_topology(top_fin=f\"{misc.relpath(rex_dir)}/topol.top\", \n",
    "                            DCA_used_fin=f\"important_files/{pdbid.upper()}_DCA_used.txt\",\n",
    "                            k=10, save_as=f\"{misc.relpath(rex_dir)}/topol_mod.top\")\n",
    "    \n",
    "    \n",
    "    # save one topology for reference\n",
    "    if ndx == 1:\n",
    "        misc.cp(f\"{misc.relpath(rex_dir)}/topol_mod.top\", \"./important_files/\")"
   ]
  },
  {
   "cell_type": "markdown",
   "id": "dab5a034",
   "metadata": {},
   "source": [
    "## prepare REX run files (temps, mdp, tpr)"
   ]
  },
  {
   "cell_type": "code",
   "execution_count": null,
   "id": "31c91863",
   "metadata": {},
   "outputs": [],
   "source": [
    "# generate temperature distrubution and save log file\n",
    "rex_dirs = rex.get_REX_DIRS()\n",
    "rex.prep_REX_temps(T_0=280, n_REX=len(rex_dirs), k=0.006)"
   ]
  },
  {
   "cell_type": "code",
   "execution_count": null,
   "id": "abb63377",
   "metadata": {},
   "outputs": [],
   "source": [
    "# prepare REX mdp files with temperature distrubution\n",
    "rex.prep_REX_mdp(main_dir=\"./\", n_REX=len(rex_dirs))"
   ]
  },
  {
   "cell_type": "code",
   "execution_count": null,
   "id": "cbb845b8",
   "metadata": {},
   "outputs": [],
   "source": [
    "# prepare REX tpr files with modified topology\n",
    "rex.prep_REX_tpr(main_dir=\"./\", n_REX=len(rex_dirs))"
   ]
  },
  {
   "cell_type": "code",
   "execution_count": null,
   "id": "5a90e61b",
   "metadata": {},
   "outputs": [],
   "source": [
    "# next: upload REX MD files on HPC and execute production run"
   ]
  },
  {
   "cell_type": "code",
   "execution_count": null,
   "id": "cdb215c9",
   "metadata": {},
   "outputs": [],
   "source": []
  }
 ],
 "metadata": {
  "kernelspec": {
   "display_name": "Python 3",
   "language": "python",
   "name": "python3"
  },
  "language_info": {
   "codemirror_mode": {
    "name": "ipython",
    "version": 3
   },
   "file_extension": ".py",
   "mimetype": "text/x-python",
   "name": "python",
   "nbconvert_exporter": "python",
   "pygments_lexer": "ipython3",
   "version": "3.8.10"
  }
 },
 "nbformat": 4,
 "nbformat_minor": 5
}
