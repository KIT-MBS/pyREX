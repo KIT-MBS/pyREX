{
 "cells": [
  {
   "cell_type": "markdown",
   "id": "8611eb55",
   "metadata": {},
   "source": [
    "# This jupyter notebook contains examples of\n",
    "- some basic functions related to Global Distance Test (GDT) analyses\n",
    "- local accuracy plot"
   ]
  },
  {
   "cell_type": "code",
   "execution_count": null,
   "id": "11527c6a",
   "metadata": {},
   "outputs": [],
   "source": [
    "%matplotlib notebook\n",
    "\n",
    "import numpy as np\n",
    "import matplotlib.pyplot as plt\n",
    "import MDAnalysis as mda\n",
    "import pyrexMD.misc as misc\n",
    "import pyrexMD.core as core\n",
    "import pyrexMD.topology as top\n",
    "import pyrexMD.analysis.analysis as ana\n",
    "import pyrexMD.analysis.gdt as gdt"
   ]
  },
  {
   "cell_type": "markdown",
   "id": "489fba7a",
   "metadata": {},
   "source": [
    "We define MDAnalysis universes to handle data. In this case we define:\n",
    "- ref: universe with reference structure\n",
    "- mobile: universe with trajectory"
   ]
  },
  {
   "cell_type": "code",
   "execution_count": null,
   "id": "64b9552f",
   "metadata": {},
   "outputs": [],
   "source": [
    "pdb = \"files/traj_rna/4tzx_ref.pdb\"\n",
    "tpr = \"files/traj_rna/traj_rna.tpr\"\n",
    "traj = \"files/traj_rna/traj_rna_cat.xtc\"\n",
    "\n",
    "ref = mda.Universe(pdb)\n",
    "mobile = mda.Universe(tpr, traj)\n",
    "\n",
    "tv = core.iPlayer(mobile)\n",
    "tv()"
   ]
  },
  {
   "cell_type": "markdown",
   "id": "eb76314c",
   "metadata": {},
   "source": [
    "# Global Distance Test (GDT) Analysis\n",
    "first we norm and align the universes (shift res ids, atom ids) and run the Global Distance Test"
   ]
  },
  {
   "cell_type": "code",
   "execution_count": null,
   "id": "1ad78df0",
   "metadata": {},
   "outputs": [],
   "source": [
    "# first norm and align universes\n",
    "top.norm_and_align_universe(mobile, ref)\n",
    "\n",
    "# run GDT using selection idnex string for correct mapping\n",
    "GDT = gdt.GDT_rna(mobile, ref)\n",
    "GDT_percent, GDT_resids, GDT_cutoff, RMSD, FRAME = GDT"
   ]
  },
  {
   "cell_type": "markdown",
   "id": "4477e81d",
   "metadata": {},
   "source": [
    "Now we can calculate individual GDT scores\n",
    "- TS: Total Score\n",
    "- HA: High Accuracy"
   ]
  },
  {
   "cell_type": "code",
   "execution_count": null,
   "id": "76901e37",
   "metadata": {},
   "outputs": [],
   "source": [
    "GDT_TS = gdt.get_GDT_TS(GDT_percent)\n",
    "GDT_HA = gdt.get_GDT_HA(GDT_percent)"
   ]
  },
  {
   "cell_type": "markdown",
   "id": "88cef6df",
   "metadata": {},
   "source": [
    "We can print the scores in a table to take a quick look on the content"
   ]
  },
  {
   "cell_type": "code",
   "execution_count": null,
   "id": "c253d844",
   "metadata": {},
   "outputs": [],
   "source": [
    "frames = [i for i in range(len(GDT_TS))]\n",
    "\n",
    "misc.cprint(\"GDT TS    GDT HA    frame\", \"blue\")\n",
    "_ = misc.print_table([GDT_TS, GDT_HA, frames], verbose_stop=10, spacing=10)"
   ]
  },
  {
   "cell_type": "markdown",
   "id": "d2912fe9",
   "metadata": {},
   "source": [
    "alternatively we can also first rank the scores and print the table sorted by rank"
   ]
  },
  {
   "cell_type": "code",
   "execution_count": null,
   "id": "cdf8761d",
   "metadata": {},
   "outputs": [],
   "source": [
    "SCORES = gdt.GDT_rank_scores(GDT_percent, ranking_order=\"GDT_TS\", verbose=False)\n",
    "GDT_TS_ranked, GDT_HA_ranked, GDT_ndx_ranked = SCORES\n",
    "\n",
    "misc.cprint(\"GDT TS    GDT HA    frame\", \"blue\")\n",
    "_ = misc.print_table([GDT_TS_ranked, GDT_HA_ranked, GDT_ndx_ranked], spacing=10, verbose_stop=10)"
   ]
  },
  {
   "cell_type": "markdown",
   "id": "2ae62f3c",
   "metadata": {},
   "source": [
    "To plot the GDT_TS curve we can use a generalized PLOT function:"
   ]
  },
  {
   "cell_type": "code",
   "execution_count": null,
   "id": "9eecdd2d",
   "metadata": {},
   "outputs": [],
   "source": [
    "fig, ax = ana.PLOT(xdata=frames, ydata=GDT_TS, xlabel=\"Frame\", ylabel=\"GDT TS\")"
   ]
  },
  {
   "cell_type": "markdown",
   "id": "60a2497b",
   "metadata": {},
   "source": [
    "Histrograms are often also important as they can be used to extract probabilities of protein conformations"
   ]
  },
  {
   "cell_type": "code",
   "execution_count": null,
   "id": "463a11e3",
   "metadata": {},
   "outputs": [],
   "source": [
    "hist = ana.plot_hist(GDT_TS, n_bins=20, xlabel=\"GDT TS\", ylabel=\"Counts\")"
   ]
  },
  {
   "cell_type": "markdown",
   "id": "63f214d6",
   "metadata": {},
   "source": [
    "# Local Accuracy Plot\n",
    "Figure showing local accuracy of models at specified frames to identify which parts of a structure are good or bad refined."
   ]
  },
  {
   "cell_type": "code",
   "execution_count": null,
   "id": "f696d517",
   "metadata": {
    "scrolled": false
   },
   "outputs": [],
   "source": [
    "# edit text box positions of labels \"Frame\", \"TS\", \"HA\"\n",
    "text_pos_kws = {\"text_pos_Frame\": [-33.6, -0.3],\n",
    "                \"text_pos_TS\": [-16.0, -0.3],\n",
    "                \"text_pos_HA\": [-7.4, -0.3],\n",
    "                \"font_scale\": 1.0,\n",
    "                \"show_frames\": True,\n",
    "                \"vmax\": 14} \n",
    "\n",
    "# plot\n",
    "A = gdt.plot_LA_rna(mobile, ref, GDT_TS_ranked, GDT_HA_ranked, GDT_ndx_ranked, **text_pos_kws)"
   ]
  },
  {
   "cell_type": "code",
   "execution_count": null,
   "id": "71d64925",
   "metadata": {},
   "outputs": [],
   "source": []
  }
 ],
 "metadata": {
  "kernelspec": {
   "display_name": "Python 3",
   "language": "python",
   "name": "python3"
  },
  "language_info": {
   "codemirror_mode": {
    "name": "ipython",
    "version": 3
   },
   "file_extension": ".py",
   "mimetype": "text/x-python",
   "name": "python",
   "nbconvert_exporter": "python",
   "pygments_lexer": "ipython3",
   "version": "3.8.10"
  }
 },
 "nbformat": 4,
 "nbformat_minor": 5
}
