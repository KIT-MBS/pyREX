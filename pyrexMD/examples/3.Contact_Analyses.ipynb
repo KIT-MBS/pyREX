{
 "cells": [
  {
   "cell_type": "markdown",
   "id": "3045e371",
   "metadata": {},
   "source": [
    "# This jupyter notebook contains examples of\n",
    "- some basic functions related to native contacts / bias contact analyses\n",
    "- interactive plots"
   ]
  },
  {
   "cell_type": "code",
   "execution_count": null,
   "id": "0fd887c4",
   "metadata": {},
   "outputs": [],
   "source": [
    "%matplotlib notebook\n",
    "\n",
    "import numpy as np\n",
    "import matplotlib.pyplot as plt\n",
    "import seaborn as sns\n",
    "import MDAnalysis as mda\n",
    "import pyrexMD.core as core\n",
    "import pyrexMD.misc as misc\n",
    "import pyrexMD.topology as top\n",
    "import pyrexMD.analysis.analysis as ana\n",
    "import pyrexMD.analysis.contacts as con"
   ]
  },
  {
   "cell_type": "markdown",
   "id": "8aa0c82f",
   "metadata": {},
   "source": [
    "# Native Contact Analyses\n",
    "First we have to define MDAnalysis universes to handle data. In this case we just want to compare two different conformations which have no trajectory data."
   ]
  },
  {
   "cell_type": "code",
   "execution_count": null,
   "id": "090691ac",
   "metadata": {},
   "outputs": [],
   "source": [
    "pdb1 = \"files/contacts/1vii_ref.pdb\"\n",
    "pdb2 = \"files/contacts/1vii_unfolded_frame.pdb\"\n",
    "\n",
    "u1 = mda.Universe(pdb1)\n",
    "u2 = mda.Universe(pdb2)"
   ]
  },
  {
   "cell_type": "markdown",
   "id": "29c30b4b",
   "metadata": {},
   "source": [
    "We can check the models/conformations with the trajectory viewer."
   ]
  },
  {
   "cell_type": "code",
   "execution_count": null,
   "id": "c9ba278c",
   "metadata": {},
   "outputs": [],
   "source": [
    "tv1 = core.iPlayer(u1)\n",
    "tv1()\n",
    "\n",
    "tv2 = core.iPlayer(u2)\n",
    "tv2()"
   ]
  },
  {
   "cell_type": "markdown",
   "id": "ac2f57b6",
   "metadata": {},
   "source": [
    "We can easily obtain a list with native contacts and save them to a log file. Here we use a cutoff distance of 6 Anström and calculate native contacts for the selection string \"protein\". The function returns:\n",
    "\n",
    "- NC: native contacts (unique RES pairs)\n",
    "- NC_d: detailed list of NCs containing (RES pairs), (ATOM numbers), (ATOM names)\n"
   ]
  },
  {
   "cell_type": "code",
   "execution_count": null,
   "id": "e5edceba",
   "metadata": {},
   "outputs": [],
   "source": [
    "NC, NC_d = con.get_Native_Contacts(u1, d_cutoff=6.0, sel=\"protein\", save_as=\"files/contacts/1vii_native_contacts.txt\")"
   ]
  },
  {
   "cell_type": "markdown",
   "id": "02973d5c",
   "metadata": {},
   "source": [
    "Quick look at the content:"
   ]
  },
  {
   "cell_type": "code",
   "execution_count": null,
   "id": "f2c0ac1f",
   "metadata": {
    "scrolled": true
   },
   "outputs": [],
   "source": [
    "NC"
   ]
  },
  {
   "cell_type": "code",
   "execution_count": null,
   "id": "9eb33e54",
   "metadata": {
    "scrolled": true
   },
   "outputs": [],
   "source": [
    "NC_d"
   ]
  },
  {
   "cell_type": "markdown",
   "id": "738e07ce",
   "metadata": {},
   "source": [
    "The contact map of the folded reference structure can be obtained via"
   ]
  },
  {
   "cell_type": "code",
   "execution_count": null,
   "id": "6fa9e289",
   "metadata": {},
   "outputs": [],
   "source": [
    "fig, ax = con.plot_Contact_Map(u1, sel=\"protein\")"
   ]
  },
  {
   "cell_type": "markdown",
   "id": "9ff8f465",
   "metadata": {},
   "source": [
    "We can also compare the native contacts of a model (grey) with contacts from an input file (DCA_fin) and test if they are native (green) or non-native (red) within the model."
   ]
  },
  {
   "cell_type": "code",
   "execution_count": null,
   "id": "6986e224",
   "metadata": {},
   "outputs": [],
   "source": [
    "fig, ax = con.plot_Contact_Map(u1, DCA_fin=\"files/contacts/1vii_mixed_contacts.txt\", n_DCA=None)"
   ]
  },
  {
   "cell_type": "markdown",
   "id": "4d5ec7f3",
   "metadata": {},
   "source": [
    "By extracting the contacts from any model and using them as input for another model, we can use the contact map  plot to compare which contacts remained native (green),  which broke up (red) and which were newly formed (grey).\n",
    "\n",
    "As an example we compare the contacts between the unfolded and folded state:"
   ]
  },
  {
   "cell_type": "code",
   "execution_count": null,
   "id": "54ec592a",
   "metadata": {},
   "outputs": [],
   "source": [
    "_ = con.get_Native_Contacts(u2, d_cutoff=6.0, sel=\"protein\", save_as=\"files/contacts/1vii_unfolded_contacts.txt\")\n",
    "fig, ax = con.plot_Contact_Map(u1, DCA_fin=\"files/contacts/1vii_unfolded_contacts.txt\", n_DCA=None)"
   ]
  },
  {
   "cell_type": "markdown",
   "id": "957cd358",
   "metadata": {},
   "source": [
    "In a similar way, we can get the native contact distances. The function returns:\n",
    "\n",
    "- NC: native contacts\n",
    "- NC_dist: native contact distances\n",
    "- DM: distance matrices\n"
   ]
  },
  {
   "cell_type": "code",
   "execution_count": null,
   "id": "a6f1dc33",
   "metadata": {
    "scrolled": false
   },
   "outputs": [],
   "source": [
    "NC, NC_dist, DM = con.get_NC_distances(u1, u1, sel=\"protein\", d_cutoff=6.0)"
   ]
  },
  {
   "cell_type": "markdown",
   "id": "be002162",
   "metadata": {},
   "source": [
    "We can use the print_table function to quickly take a look on the content. The table only prints a certain number of entries (defaults to 30)."
   ]
  },
  {
   "cell_type": "code",
   "execution_count": null,
   "id": "03d8a89f",
   "metadata": {},
   "outputs": [],
   "source": [
    "misc.cprint(\"distance  NC pair\", \"blue\")\n",
    "_ = misc.print_table([NC_dist, NC], spacing=10, verbose_stop=10)"
   ]
  },
  {
   "cell_type": "markdown",
   "id": "c5816251",
   "metadata": {},
   "source": [
    "In a similar way, we can also create contact maps and display the contact distances."
   ]
  },
  {
   "cell_type": "code",
   "execution_count": null,
   "id": "468ac72a",
   "metadata": {},
   "outputs": [],
   "source": [
    "fig, ax = con.plot_Contact_Map_Distances(u1, NC, NC_dist, pdbid=\"1vii\", sel=\"protein\")"
   ]
  },
  {
   "cell_type": "markdown",
   "id": "c38d14d1",
   "metadata": {},
   "source": [
    "Simulations are often biased using contacts from theoretical or experimental sources. We can check the contacts for their True Positive Rate (TPR) based on their number of ranked contacts.\n",
    "\n",
    "For example:"
   ]
  },
  {
   "cell_type": "code",
   "execution_count": null,
   "id": "80b318eb",
   "metadata": {},
   "outputs": [],
   "source": [
    "fig, ax = con.plot_DCA_TPR(u1, DCA_fin=\"files/contacts/1vii.rr\", n_DCA=80, d_cutoff=8.0)"
   ]
  },
  {
   "cell_type": "markdown",
   "id": "b68860a2",
   "metadata": {},
   "source": [
    "The input file '1vii.rr' contains predicted contacts with cutoff = 8A.\n",
    "\n",
    "The figure shows:\n",
    "- blue line: TPR\n",
    "- red line: 75% cutoff threshold (TPR of used number of contacts should be above 75% for contact-guided REX, see  https://doi.org/10.1371/journal.pone.0242072)\n",
    "- orange lines: suggested/guessed optimum number of contacts and the corresponding TPR\n",
    "- orange region: suggested region of interest between L/2 and L contacts\n"
   ]
  },
  {
   "cell_type": "markdown",
   "id": "c52ed12f",
   "metadata": {},
   "source": [
    "# QNative Analysis\n",
    "\n",
    "The fraction of realized native contacts (QValues, or specifically \"QNative\") is often of great interest.\n",
    "\n",
    "Exemplarily, we use a very short simulation and define the reference structure and the mobile structure (which contains the trajectory data)."
   ]
  },
  {
   "cell_type": "code",
   "execution_count": null,
   "id": "f826835a",
   "metadata": {},
   "outputs": [],
   "source": [
    "ref = \"files/traj/2hba_ChainB_ref.pdb\"\n",
    "top = \"files/traj/traj_protein.tpr\"\n",
    "traj = \"files/traj/traj_protein.xtc\"\n",
    "u1 = mda.Universe(top,traj)   # mobile\n",
    "u2 = mda.Universe(ref)        # reference\n",
    "\n",
    "tv1 = core.iPlayer(u1)\n",
    "tv1()\n",
    "tv2 = core.iPlayer(u2)\n",
    "tv2()"
   ]
  },
  {
   "cell_type": "markdown",
   "id": "57085efa",
   "metadata": {},
   "source": [
    "We calculate QNative. The function returns:\n",
    "\n",
    "- FRAMES: array with frames\n",
    "- QNATIVE: array with fraction of native contacts"
   ]
  },
  {
   "cell_type": "code",
   "execution_count": null,
   "id": "8c637805",
   "metadata": {},
   "outputs": [],
   "source": [
    "FRAMES, QNATIVE = con.get_QNative(u1,u2, method=\"radius_cut\", sel=\"protein and name CA\", marker=\"None\", lw=1)"
   ]
  },
  {
   "cell_type": "markdown",
   "id": "a9fa4a46",
   "metadata": {},
   "source": [
    "Many analysis functions also generate plots automatically but can be supressed via plot=False.\n",
    "\n",
    "\n",
    "\n",
    "To obtain the list of contact pairs used during the QNative analysis, we can use the function get_Native_Contacts as before.\n",
    "\n",
    "The function returns:\n",
    "- NC: native contacts (unique RES pairs)\n",
    "- NC_d: detailed list of NCs containing (RES pairs), (ATOM numbers), (ATOM names)"
   ]
  },
  {
   "cell_type": "code",
   "execution_count": null,
   "id": "ddb8626d",
   "metadata": {},
   "outputs": [],
   "source": [
    "NC, NC_d = con.get_Native_Contacts(u1, sel=\"protein and name CA\")\n",
    "NC"
   ]
  },
  {
   "cell_type": "markdown",
   "id": "3de7904e",
   "metadata": {},
   "source": [
    "# QBias Analysis\n",
    "\n",
    "Analogously to the QNative analysis we can look at the fraction of formed bias contacts (\"QBias\"). The first steps are identical to before:"
   ]
  },
  {
   "cell_type": "code",
   "execution_count": null,
   "id": "5ecbd0e9",
   "metadata": {},
   "outputs": [],
   "source": [
    "ref = \"files/traj/2hba_ChainB_ref.pdb\"\n",
    "top = \"files/traj/traj_protein.tpr\"\n",
    "traj = \"files/traj/traj_protein.xtc\"\n",
    "u1 = mda.Universe(top,traj)   # mobile\n",
    "u2 = mda.Universe(ref)        # reference\n",
    "\n",
    "sel = \"protein and name CA\"\n",
    "NC, NC_d = con.get_Native_Contacts(u2, sel=sel)"
   ]
  },
  {
   "cell_type": "markdown",
   "id": "c26e88c2",
   "metadata": {},
   "source": [
    "Next we calculate QBias and directly plot the time evolution. The function returns:\n",
    "\n",
    "- FRAMES: array with frame numbers\n",
    "- QBIAS: array with fraction of formed bias contacts\n",
    "- CM: array with contact matrices"
   ]
  },
  {
   "cell_type": "code",
   "execution_count": null,
   "id": "04d961dc",
   "metadata": {},
   "outputs": [],
   "source": [
    "FRAMES, QBIAS, CM = con.get_QBias(u1, NC, d_cutoff=6.0, warn=False, marker=None, lw=1)"
   ]
  },
  {
   "cell_type": "markdown",
   "id": "624d4c6a",
   "metadata": {},
   "source": [
    "We can test the functionality by using native contacts as bias contacts compare the difference between QNative and QBias."
   ]
  },
  {
   "cell_type": "code",
   "execution_count": null,
   "id": "fa6fb75a",
   "metadata": {},
   "outputs": [],
   "source": [
    "misc.cprint(\"Comparison: QNative - QBias ; include_selfcontacts=False\", \"blue\")\n",
    "print(QNATIVE - QBIAS)"
   ]
  },
  {
   "cell_type": "markdown",
   "id": "249d0483",
   "metadata": {},
   "source": [
    "Note: the qvalue algorithm for native contacts (\"QNative\") includes selfcontacts. Comparison of both methods yields better results when include_selfcontacts (bool, see kwargs) is set to True. However this improves the calculated QBias value artificially (e.g. even when all used bias contacts are never formed, QBias will not be zero due to the selfcontact counts). Hence include_selfcontacts defaults to False."
   ]
  },
  {
   "cell_type": "code",
   "execution_count": null,
   "id": "7ad2cfd3",
   "metadata": {},
   "outputs": [],
   "source": [
    "#FRAMES, QBIAS, CM = con.get_QBias(u1, NC, d_cutoff=6.0, include_selfcontacts=True, warn=False, marker=None, lw=1)\n",
    "FRAMES, QBIAS, CM = con.get_QBias(u1, NC, d_cutoff=6.0, include_selfcontacts=True, warn=False, plot=False)\n",
    "\n",
    "misc.cprint(\"Comparison: QNative - QBias ; include_selfcontacts=True\", \"blue\")\n",
    "print(QNATIVE - QBIAS)"
   ]
  },
  {
   "cell_type": "markdown",
   "id": "d15f8b59",
   "metadata": {},
   "source": [
    "We can extract formed bias contacts for individual frames (here frame 0) via:"
   ]
  },
  {
   "cell_type": "code",
   "execution_count": null,
   "id": "773ccd6e",
   "metadata": {},
   "outputs": [],
   "source": [
    "CP = con.get_formed_contactpairs(u1, CM[0], include_selfcontacts=False)\n",
    "CP"
   ]
  },
  {
   "cell_type": "markdown",
   "id": "4a8cda6f",
   "metadata": {},
   "source": [
    "# Interactive Plots\n",
    "\n",
    "Short showcase of the interactive plot function. It links the trajectory viewer to a 2D plot, where you can use inspect conformations at specific xy-values.\n",
    "\n",
    "\n",
    "- ctrl-click or shift-click into plot to jump to specific frames\n",
    "- click on TIME/FRAME widget to toggle between modes\n",
    "- modify the representation via UI"
   ]
  },
  {
   "cell_type": "code",
   "execution_count": null,
   "id": "f69deae2",
   "metadata": {},
   "outputs": [],
   "source": [
    "IP = core.iPlot(u1, xdata=FRAMES, ydata=QBIAS, xlabel=\"frame\", ylabel=\"QBias\")\n",
    "IP()"
   ]
  },
  {
   "cell_type": "code",
   "execution_count": null,
   "id": "a5bf142e",
   "metadata": {},
   "outputs": [],
   "source": []
  }
 ],
 "metadata": {
  "kernelspec": {
   "display_name": "Python 3",
   "language": "python",
   "name": "python3"
  },
  "language_info": {
   "codemirror_mode": {
    "name": "ipython",
    "version": 3
   },
   "file_extension": ".py",
   "mimetype": "text/x-python",
   "name": "python",
   "nbconvert_exporter": "python",
   "pygments_lexer": "ipython3",
   "version": "3.8.10"
  }
 },
 "nbformat": 4,
 "nbformat_minor": 5
}
