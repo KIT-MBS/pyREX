{
 "cells": [
  {
   "cell_type": "markdown",
   "id": "8611eb55",
   "metadata": {},
   "source": [
    "# This jupyter notebook contains examples about\n",
    "- some basic functions related to Global Distance Test (GDT) analyses\n",
    "- local accuracy plot"
   ]
  },
  {
   "cell_type": "code",
   "execution_count": null,
   "id": "11527c6a",
   "metadata": {},
   "outputs": [],
   "source": [
    "%matplotlib notebook\n",
    "\n",
    "import numpy as np\n",
    "import matplotlib.pyplot as plt\n",
    "import seaborn as sns\n",
    "import MDAnalysis as mda\n",
    "import pyrexMD.misc as misc\n",
    "import pyrexMD.core as core\n",
    "import pyrexMD.topology as top\n",
    "import pyrexMD.analysis.analysis as ana\n",
    "import pyrexMD.analysis.gdt as gdt\n",
    "\n",
    "\n",
    "misc.apply_matplotlib_rc_settings()"
   ]
  },
  {
   "cell_type": "code",
   "execution_count": null,
   "id": "64b9552f",
   "metadata": {},
   "outputs": [],
   "source": [
    "### define MDAnalysis universes to handle data. \n",
    "# in this case we define:\n",
    "# - ref: universe with reference structure\n",
    "# - mobile: universe with trajectory\n",
    "\n",
    "pdb = \"files/traj_rna/4tzx_ref.pdb\"\n",
    "tpr = \"files/traj_rna/traj_rna.tpr\"\n",
    "traj = \"files/traj_rna/traj_rna_cat.xtc\"\n",
    "\n",
    "ref = mda.Universe(pdb)\n",
    "mobile = mda.Universe(tpr, traj)\n",
    "\n",
    "tv = core.iPlayer(mobile)\n",
    "tv()"
   ]
  },
  {
   "cell_type": "markdown",
   "id": "eb76314c",
   "metadata": {},
   "source": [
    "# Global Distance Test (GDT) Analysis"
   ]
  },
  {
   "cell_type": "code",
   "execution_count": null,
   "id": "1ad78df0",
   "metadata": {},
   "outputs": [],
   "source": [
    "# first norm and align universes\n",
    "top.norm_and_align_universe(mobile, ref)\n",
    "\n",
    "# run GDT using selection idnex string for correct mapping\n",
    "GDT = gdt.GDT_rna(mobile, ref)\n",
    "GDT_percent, GDT_resids, GDT_cutoff, RMSD, FRAME = GDT"
   ]
  },
  {
   "cell_type": "code",
   "execution_count": null,
   "id": "76901e37",
   "metadata": {},
   "outputs": [],
   "source": [
    "### get individual GDT scores and print table\n",
    "# TS: Total Score\n",
    "# HA: High Accuracy\n",
    "\n",
    "\n",
    "GDT_TS = gdt.get_GDT_TS(GDT_percent)\n",
    "GDT_HA = gdt.get_GDT_HA(GDT_percent)\n",
    "frames = [i for i in range(len(GDT_TS))]\n",
    "\n",
    "misc.cprint(\"GDT TS    GDT HA    frame\", \"blue\")\n",
    "_ = misc.print_table([GDT_TS, GDT_HA, frames], verbose_stop=10, spacing=10)"
   ]
  },
  {
   "cell_type": "code",
   "execution_count": null,
   "id": "cdf8761d",
   "metadata": {},
   "outputs": [],
   "source": [
    "### rank scores and print table\n",
    "SCORES = gdt.GDT_rank_scores(GDT_percent, ranking_order=\"GDT_TS\", verbose=False)\n",
    "GDT_TS_ranked, GDT_HA_ranked, GDT_ndx_ranked = SCORES\n",
    "\n",
    "misc.cprint(\"GDT TS    GDT HA    frame\", \"blue\")\n",
    "_ = misc.print_table([GDT_TS_ranked, GDT_HA_ranked, GDT_ndx_ranked], spacing=10, verbose_stop=10)"
   ]
  },
  {
   "cell_type": "code",
   "execution_count": null,
   "id": "9eecdd2d",
   "metadata": {},
   "outputs": [],
   "source": [
    "### plot GDT_TS curve\n",
    "\n",
    "fig, ax = ana.PLOT(xdata=frames, ydata=GDT_TS, xlabel=\"Frame\", ylabel=\"GDT TS\")"
   ]
  },
  {
   "cell_type": "code",
   "execution_count": null,
   "id": "463a11e3",
   "metadata": {},
   "outputs": [],
   "source": [
    "### plot GDT_TS histogram\n",
    "hist = ana.plot_hist(GDT_TS, n_bins=20, xlabel=\"GDT TS\", ylabel=\"Counts\")"
   ]
  },
  {
   "cell_type": "markdown",
   "id": "63f214d6",
   "metadata": {},
   "source": [
    "# Local Accuracy Plot\n",
    "- show local accuracy of models at specified frames"
   ]
  },
  {
   "cell_type": "code",
   "execution_count": null,
   "id": "f696d517",
   "metadata": {
    "scrolled": false
   },
   "outputs": [],
   "source": [
    "# edit text box positions of labels \"Frame\", \"TS\", \"HA\"\n",
    "text_pos_kws = {\"text_pos_Frame\": [-33.6, -0.3],\n",
    "                \"text_pos_TS\": [-16.0, -0.3],\n",
    "                \"text_pos_HA\": [-7.4, -0.3],\n",
    "                \"font_scale\": 1.0,\n",
    "                \"show_frames\": True,\n",
    "                \"vmax\": 14} \n",
    "\n",
    "# plot\n",
    "A = gdt.plot_LA_rna(mobile, ref, GDT_TS_ranked, GDT_HA_ranked, GDT_ndx_ranked, **text_pos_kws)"
   ]
  }
 ],
 "metadata": {
  "kernelspec": {
   "display_name": "Python 3",
   "language": "python",
   "name": "python3"
  },
  "language_info": {
   "codemirror_mode": {
    "name": "ipython",
    "version": 3
   },
   "file_extension": ".py",
   "mimetype": "text/x-python",
   "name": "python",
   "nbconvert_exporter": "python",
   "pygments_lexer": "ipython3",
   "version": "3.8.5"
  }
 },
 "nbformat": 4,
 "nbformat_minor": 5
}
