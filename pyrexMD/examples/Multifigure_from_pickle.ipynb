{
 "cells": [
  {
   "cell_type": "code",
   "execution_count": null,
   "id": "bba705d3",
   "metadata": {},
   "outputs": [],
   "source": [
    "%matplotlib notebook\n",
    "#%matplotlib inline\n",
    "\n",
    "import numpy as np\n",
    "import matplotlib.pyplot as plt\n",
    "import seaborn as sns\n",
    "import MDAnalysis as mda\n",
    "import pyrexMD.misc as misc\n",
    "import pyrexMD.core as core\n",
    "import pyrexMD.analysis.analysis as ana\n",
    "import pyrexMD.analysis.gdt as gdt\n",
    "\n",
    "misc.apply_matplotlib_rc_settings()"
   ]
  },
  {
   "cell_type": "code",
   "execution_count": null,
   "id": "2fdf836b",
   "metadata": {},
   "outputs": [],
   "source": [
    "pdb = \"files/traj/2hba_ChainB_ref.pdb\"\n",
    "top = \"files/traj/traj_protein.tpr\"\n",
    "traj = \"files/traj/traj_protein.xtc\"\n",
    "\n",
    "ref = mda.Universe(pdb)\n",
    "mobile = mda.Universe(top, traj)\n",
    "\n",
    "tv = core.iPlayer(mobile)\n",
    "tv()"
   ]
  },
  {
   "cell_type": "code",
   "execution_count": null,
   "id": "9143c120",
   "metadata": {},
   "outputs": [],
   "source": [
    "# get some data to plot\n",
    "FRAME, TIME, RMSD = ana.get_RMSD(mobile, ref)\n",
    "\n",
    "# plot and pickle dump\n",
    "fig , ax = ana.PLOT(xdata=FRAME, ydata=RMSD, alpha=1, marker=None, xlabel=\"frame\", ylabel=r\"RMSD ($\\AA$)\")\n",
    "plt.ylim(0.0, 1.4)\n",
    "pickle_RMSD = misc.pickle_dump(fig, \"files/pickle/RMSD_PLOT.pickle\")\n",
    "fig, ax, hist = ana.plot_hist(RMSD, n_bins=15, vmin=0.0, vmax=1.4, orientation=\"horizontal\")\n",
    "pickle_HIST = misc.pickle_dump(fig, \"files/pickle/RMSD_HIST.pickle\")"
   ]
  },
  {
   "cell_type": "code",
   "execution_count": null,
   "id": "907e9d7c",
   "metadata": {
    "scrolled": true
   },
   "outputs": [],
   "source": [
    "# example of reusing figures/pickles for multifigure\n",
    "# Bug: %matplotlib notebook backend leaves empty space below when closing figs which were loaded via pickle.\n",
    "fig, ax = misc.pickle_plot([pickle_RMSD, pickle_HIST], figsize=(8,3), wr=[2,1], hr=[1,1])"
   ]
  },
  {
   "cell_type": "code",
   "execution_count": null,
   "id": "bb2c38ab",
   "metadata": {},
   "outputs": [],
   "source": [
    "# example of making a multifigure on the fly\n",
    "fig, ax = misc.figure(grid=[2, 2])\n",
    "plt.sca(ax[0])\n",
    "plt.plot([1,2,3],[1,2,3])\n",
    "plt.sca(ax[1])\n",
    "plt.plot([1,2,3],[-1,-2,-3])\n",
    "plt.sca(ax[2])\n",
    "plt.plot(FRAME,RMSD)\n",
    "plt.sca(ax[3])\n",
    "plt.hist(RMSD)\n",
    "plt.tight_layout()"
   ]
  },
  {
   "cell_type": "code",
   "execution_count": null,
   "id": "c615287f",
   "metadata": {},
   "outputs": [],
   "source": []
  },
  {
   "cell_type": "code",
   "execution_count": null,
   "id": "8ac3d687",
   "metadata": {},
   "outputs": [],
   "source": []
  }
 ],
 "metadata": {
  "kernelspec": {
   "display_name": "Python 3",
   "language": "python",
   "name": "python3"
  },
  "language_info": {
   "codemirror_mode": {
    "name": "ipython",
    "version": 3
   },
   "file_extension": ".py",
   "mimetype": "text/x-python",
   "name": "python",
   "nbconvert_exporter": "python",
   "pygments_lexer": "ipython3",
   "version": "3.8.5"
  }
 },
 "nbformat": 4,
 "nbformat_minor": 5
}
