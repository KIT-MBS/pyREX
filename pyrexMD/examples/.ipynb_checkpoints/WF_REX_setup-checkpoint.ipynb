{
 "cells": [
  {
   "cell_type": "code",
   "execution_count": null,
   "id": "1e084145",
   "metadata": {},
   "outputs": [],
   "source": [
    "%matplotlib notebook\n",
    "\n",
    "from tqdm.notebook import tqdm\n",
    "import numpy as np\n",
    "import matplotlib.pyplot as plt\n",
    "import seaborn as sns\n",
    "import MDAnalysis as mda\n",
    "import pyrexMD.core as core\n",
    "import pyrexMD.misc as misc\n",
    "import pyrexMD.analysis.analysis as ana\n",
    "import pyrexMD.analysis.contacts as con\n",
    "import pyrexMD.analysis.gdt as gdt\n",
    "import pyrexMD.rex as rex\n",
    "import pyrexMD.gmx as gmx\n",
    "misc.apply_matplotlib_rc_settings()"
   ]
  },
  {
   "cell_type": "code",
   "execution_count": null,
   "id": "dfe09130",
   "metadata": {},
   "outputs": [],
   "source": [
    "### change if necessary\n",
    "\n",
    "root = f\"files/rex\"\n",
    "root = misc.cd(root)\n",
    "\n",
    "ref_pdb0 = f\"1lmb_Chain4.pdb\"\n",
    "pdbid = ana.get_PDBid(ref_pdb0)\n",
    "\n",
    "#misc.mkdir(f\"./important_files/\")\n",
    "score_fin = f\"{pdbid.upper()}.rr\""
   ]
  },
  {
   "cell_type": "code",
   "execution_count": null,
   "id": "b7b9159a",
   "metadata": {},
   "outputs": [],
   "source": [
    "u = mda.Universe(ref_pdb0)\n",
    "u\n",
    "tv = core.iPlayer(u)\n",
    "tv()"
   ]
  },
  {
   "cell_type": "code",
   "execution_count": null,
   "id": "06ce696d",
   "metadata": {},
   "outputs": [],
   "source": [
    "# create ref (apply forcefield)\n",
    "ref_pdb = f\"{misc.get_filedir(ref_pdb0)}/{misc.get_base(ref_pdb0)}_ref.pdb\"\n",
    "ref_pdb = gmx.get_ref_structure(ref_pdb0, ref_pdb)\n",
    "gmx.clean_up(misc.get_filedir(ref_pdb), verbose=False)\n",
    "gmx.clean_up(verbose=False)\n",
    "print()\n",
    "\n",
    "# apply forcefield on decoys\n",
    "decoy_dir = f\"{root}/decoys\"\n",
    "decoy_dir = rex.apply_ff_best_decoys(decoy_dir) # overwrite variable\n",
    "decoy_paths = [f\"{decoy_dir}/{item}\" for item in misc.read_file(f\"{decoy_dir}/decoy_scores.log\", usecols=0, skiprows=1, dtype=str)]\n",
    "\n",
    "# assign decoys to rex_i folders\n",
    "rex.assign_best_decoys(decoy_dir, verbose=False)\n",
    "\n",
    "# copy rex_1 content to get important parameters (fixed box size, fixed number of solution molecules)\n",
    "misc.cprint(\"\\nCopied 'rex_1' content to 'rex_0_get_system_parameters' (fixed box size, fixed number of solution molecules).\", \"blue\")\n",
    "_ = misc.cp(\"rex_1\", \"rex_0_get_system_parameters\", verbose=False)"
   ]
  },
  {
   "cell_type": "markdown",
   "id": "372e5c81",
   "metadata": {},
   "source": [
    "# RESIDUE Analysis (based on rex_1 decoy)"
   ]
  },
  {
   "cell_type": "code",
   "execution_count": null,
   "id": "3351a428",
   "metadata": {},
   "outputs": [],
   "source": [
    "ref0 = mda.Universe(ref_pdb0)\n",
    "tv = core.iPlayer(ref0)\n",
    "tv()"
   ]
  },
  {
   "cell_type": "code",
   "execution_count": null,
   "id": "2d5c83d2",
   "metadata": {},
   "outputs": [],
   "source": [
    "ref = mda.Universe(ref_pdb)\n",
    "mobile = mda.Universe(decoy_paths[0])\n",
    "\n",
    "ana.align_resids(mobile, ref)"
   ]
  },
  {
   "cell_type": "code",
   "execution_count": null,
   "id": "c18dddaf",
   "metadata": {},
   "outputs": [],
   "source": [
    "print(\"Mobile:\")\n",
    "print(mobile.residues.resids)\n",
    "print(mobile.residues.resnames)\n",
    "\n",
    "print(\"\\nRef:\")\n",
    "print(ref.residues.resids)\n",
    "print(ref.residues.resnames)"
   ]
  },
  {
   "cell_type": "code",
   "execution_count": null,
   "id": "0709642e",
   "metadata": {},
   "outputs": [],
   "source": [
    "# modify sel_detail if necessary ~ GDT: use CA atoms\n",
    "sel1, sel2 = ana.get_matching_selection(mobile, ref, sel=\"protein and name CA\")\n",
    "misc.cprint(f\"Matching selection strings:\", \"blue\")\n",
    "misc.cprint(f\"Mobile:    sel1 = {sel1}\", \"blue\")\n",
    "misc.cprint(f\"Reference: sel2 = {sel2}\" , \"blue\") \n",
    "\n",
    "print(f\"\\nResids in sel1:\\n{mobile.atoms.select_atoms(sel1).residues.resnames}\")\n",
    "print(f\"Resids in sel2:\\n{ref.atoms.select_atoms(sel2).residues.resnames}\")\n",
    "\n",
    "if np.all(mobile.atoms.select_atoms(sel1).residues.resnames == ref.atoms.select_atoms(sel2).residues.resnames):\n",
    "    misc.cprint(f\"Resids match\\n\", \"green\")\n",
    "else:\n",
    "     misc.cprint(f\"Resids do not match\\n\", \"red\")\n",
    "\n",
    "print(\"Atoms in sel1:\", mobile.atoms.select_atoms(sel1).n_atoms)\n",
    "print(\"Atoms in sel2:\", ref.atoms.select_atoms(sel2).n_atoms)\n",
    "\n",
    "\n",
    "print(\"Atoms in Mobile:\", mobile.atoms.n_atoms)\n",
    "print(\"Atoms in Reference:\", ref.atoms.n_atoms)\n",
    "if mobile.atoms.n_atoms == ref.atoms.n_atoms:\n",
    "    misc.cprint(f\"Atom counts match\", \"green\")\n",
    "else:\n",
    "     misc.cprint(f\"Atom counts do not match\", \"red\")"
   ]
  },
  {
   "cell_type": "markdown",
   "id": "aba7ad42",
   "metadata": {},
   "source": [
    "# TPR Analysis"
   ]
  },
  {
   "cell_type": "code",
   "execution_count": null,
   "id": "de5a4b87",
   "metadata": {},
   "outputs": [],
   "source": [
    "score_fin = f\"{pdbid.upper()}.rr\"\n",
    "_ = con.plot_DCA_TPR(ref, score_fin,\n",
    "                     n_DCA=len(ref.residues), DCA_cols=(0,1),\n",
    "                     pdbid=f\"{pdbid} reference\")\n",
    "misc.cprint(f\"Reference has {len(ref.residues)} residues\", \"blue\")"
   ]
  },
  {
   "cell_type": "code",
   "execution_count": null,
   "id": "879bea83",
   "metadata": {},
   "outputs": [],
   "source": [
    "# just a quick comparison with a decoy to see how different the structures are\n",
    "score_fin = f\"{pdbid.upper()}.rr\"\n",
    "_ = con.plot_DCA_TPR(mobile, score_fin,\n",
    "                     n_DCA=len(ref.residues), DCA_cols=(0,1),\n",
    "                     pdbid=f\"{pdbid} mobile\")\n",
    "misc.cprint(f\"Mobile has {len(ref.residues)} residues\", \"blue\")"
   ]
  },
  {
   "cell_type": "code",
   "execution_count": null,
   "id": "1bd554e9",
   "metadata": {},
   "outputs": [],
   "source": [
    "GDT_percent, _, _, RMSD, _ = gdt.GDT(mobile, ref, sel1=sel1, sel2=sel2, disable=True)\n",
    "print(f\"RMSD:   {round(RMSD[0][1], 3)} A\")\n",
    "print(f\"GDT_TS: {round(gdt.get_GDT_TS(GDT_percent)[0], 3)}\")\n",
    "print(f\"GDT_HA: {round(gdt.get_GDT_HA(GDT_percent)[0], 3)}\")"
   ]
  },
  {
   "cell_type": "markdown",
   "id": "d31eb11f",
   "metadata": {},
   "source": [
    "## Test if all REX pdbs have equal RES, ATOM, NAME arrays"
   ]
  },
  {
   "cell_type": "code",
   "execution_count": null,
   "id": "29c8ee8c",
   "metadata": {},
   "outputs": [],
   "source": [
    "pdb_is_known = True\n",
    "\n",
    "\n",
    "REX_DIRS = rex.get_REX_DIRS(\"./\", realpath=True)\n",
    "REX_PDBS = rex.get_REX_PDBS(\"./\", realpath=True)\n",
    "\n",
    "if pdb_is_known:  \n",
    "    # Test REX PDBS for equal arrays with known ref pdb\n",
    "    misc.cprint(\"Using known PDB as reference...\", \"blue\")\n",
    "    rex.test_REX_PDBS(REX_PDBS, ref_pdb)\n",
    "else:\n",
    "    misc.cprint(\"PDB is unknown. Using first REX PDB as reference...\", \"red\")\n",
    "    rex.test_REX_PDBS(REX_PDBS, REX_PDBS[0])"
   ]
  },
  {
   "cell_type": "code",
   "execution_count": null,
   "id": "f6f32ba4",
   "metadata": {},
   "outputs": [],
   "source": [
    "# RUN THIS IF CELL ABOVE GIVES ERROR: \"Parsed arrays of <...> do not match with <...>\"\"\n",
    "# check for unequal parsed arrays (modify x1 and x2 input pdb_files if necessary)\n",
    "check = True\n",
    "\n",
    "if check:\n",
    "    misc.cprint(f\"ref pdb: {ref_pdb}\", \"blue\")\n",
    "    for test_pdb in REX_PDBS:\n",
    "        x1 = mda.Universe(ref_pdb)\n",
    "        x2 = mda.Universe(test_pdb)\n",
    "        print(\"###########################################################################################\")\n",
    "        if np.all(x1.residues.resnames == x2.residues.resnames) == False:\n",
    "            misc.cprint(f\"RES  NAMES are not equal ({test_pdb}):\", \"red\")\n",
    "            print(x1.residues.resnames == x2.residues.resnames)\n",
    "        else:\n",
    "            misc.cprint(f\"RES  NAMES are equal ({test_pdb}).\", \"green\")\n",
    "        if np.all(x1.atoms.names == x2.atoms.names) == False:\n",
    "            misc.cprint(f\"ATOM NAMES are not equal ({test_pdb}):\", \"red\")\n",
    "            for i in range(len(x1.atoms.names)):\n",
    "                if x1.atoms.names[i] != x2.atoms.names[i]:\n",
    "                    misc.cprint(f\"resid1: {x1.atoms.resids[i]}    resid2: {x2.atoms.resids[i]} || atom-id1: {x1.atoms.ids[i]}    atom-id2: {x2.atoms.ids[i]} || atom-name1:{x1.atoms.names[i]}    atom-name2:{x2.atoms.names[i]}\")\n",
    "        else:\n",
    "            misc.cprint(f\"ATOM NAMES are equal ({test_pdb}).\", \"green\")"
   ]
  },
  {
   "cell_type": "markdown",
   "id": "76f6b35f",
   "metadata": {},
   "source": [
    "# WF: get system parameters\n",
    "required parameter for REX setup with different start configurations:\n",
    "- fixed box dimension\n",
    "- fixed number of solution molecules"
   ]
  },
  {
   "cell_type": "code",
   "execution_count": null,
   "id": "1ca6bb9e",
   "metadata": {},
   "outputs": [],
   "source": [
    "misc.cd(f\"{root}/rex_0_get_system_parameters\")\n",
    "decoy_pdb = misc.get_filename(\"*_ref.pdb\")"
   ]
  },
  {
   "cell_type": "code",
   "execution_count": null,
   "id": "b204b77e",
   "metadata": {},
   "outputs": [],
   "source": [
    "# 1) generate topology\n",
    "protein_gro = gmx.pdb2gmx(f=decoy_pdb, verbose=False)"
   ]
  },
  {
   "cell_type": "code",
   "execution_count": null,
   "id": "dedf8507",
   "metadata": {},
   "outputs": [],
   "source": [
    "# 2) generate box \n",
    "box_gro = gmx.editconf(f=protein_gro, o=\"box.gro\", bt=\"cubic\", d=2, verbose=False)"
   ]
  },
  {
   "cell_type": "code",
   "execution_count": null,
   "id": "372c36cb",
   "metadata": {},
   "outputs": [],
   "source": [
    "boxsize = rex.WF_getParameter_boxsize(\"./logs/editconf_1.log\")\n",
    "boxsize"
   ]
  },
  {
   "cell_type": "code",
   "execution_count": null,
   "id": "3382ea95",
   "metadata": {},
   "outputs": [],
   "source": [
    "# Apply fixed boxsize\n",
    "box_gro = gmx.editconf(f=protein_gro, o=\"box.gro\", bt=\"cubic\", box=boxsize, c=True, verbose=False)\n",
    "print()\n",
    "\n",
    "if boxsize == rex.WF_getParameter_boxsize(\"./logs/editconf_1.log\", verbose=True):\n",
    "    misc.cprint(f\"\\n\\nSuccess: new box vectors have fixed size: {boxsize}\", \"green\")\n",
    "else:\n",
    "    misc.cprint(f\"\\n\\nCheck above if new box vectors have fixed size: {boxsize}\", \"red\")"
   ]
  },
  {
   "cell_type": "code",
   "execution_count": null,
   "id": "f61f09e2",
   "metadata": {},
   "outputs": [],
   "source": [
    "# 3) generate solvent\n",
    "solvent_gro = gmx.solvate(cp=box_gro, verbose=False)"
   ]
  },
  {
   "cell_type": "code",
   "execution_count": null,
   "id": "e0a81b38",
   "metadata": {},
   "outputs": [],
   "source": [
    "maxsol = rex.WF_getParameter_maxsol(\"./logs/solvate_1.log\")\n",
    "maxsol"
   ]
  },
  {
   "cell_type": "markdown",
   "id": "e2a42293",
   "metadata": {},
   "source": [
    "# populate replicas with decoys"
   ]
  },
  {
   "cell_type": "code",
   "execution_count": null,
   "id": "9807f0ee",
   "metadata": {},
   "outputs": [],
   "source": [
    "# modify values (copy&paste from above)\n",
    "boxsize_manual = 9.4\n",
    "maxsol_manual = 26042\n",
    "\n",
    "# TEST if values are updated\n",
    "if \"boxsize\" in locals():\n",
    "    if boxsize != boxsize_manual:\n",
    "        misc.cprint(\"boxsize_manual is not updated. copy&paste value from above...\", \"red\")\n",
    "else:\n",
    "    boxsize = boxsize_manual\n",
    "    \n",
    "if \"maxsol\" in locals():\n",
    "    if maxsol != maxsol_manual:\n",
    "        misc.cprint(\"maxsol_manual is not updated. copy&paste value from above...\", \"red\")\n",
    "else:\n",
    "    maxsol = maxsol_manual"
   ]
  },
  {
   "cell_type": "code",
   "execution_count": null,
   "id": "2a7543fb",
   "metadata": {},
   "outputs": [],
   "source": [
    "# change dir back to root\n",
    "misc.cd(root)    \n",
    "rex_dirs = rex.get_REX_DIRS()"
   ]
  },
  {
   "cell_type": "code",
   "execution_count": null,
   "id": "7c42478f",
   "metadata": {},
   "outputs": [],
   "source": [
    "rex.WF_REX_setup(rex_dirs=rex_dirs, boxsize=boxsize, maxsol=maxsol, verbose=False, verbose_gmx=False)"
   ]
  },
  {
   "cell_type": "code",
   "execution_count": null,
   "id": "7f03df0f",
   "metadata": {},
   "outputs": [],
   "source": [
    "# limited number of steps to 10 for this example\n",
    "rex.WF_REX_setup_energy_minimization(rex_dirs=rex_dirs, nsteps=10, verbose=False)"
   ]
  },
  {
   "cell_type": "markdown",
   "id": "72e2c1b6",
   "metadata": {},
   "source": [
    "# Modify Topology:\n",
    "use rex_1 as template for all replica\n",
    "(different start configurations but fixed boxsize and fixed number of solution molecules)"
   ]
  },
  {
   "cell_type": "code",
   "execution_count": null,
   "id": "735e4d76",
   "metadata": {},
   "outputs": [],
   "source": [
    "n_DCA = 70   # check TPR Analysis plot for ideal number\n",
    "misc.cd(root)\n",
    "\n",
    "RES_PAIR, ATOM_PAIR = rex.DCAREX_res2atom_mapping(ref_pdb=ref_pdb, DCA_fin=score_fin, n_DCA=n_DCA, usecols=(0,1), default_dir=\"./important_files\")\n",
    "misc.cprint(\"\\nRES PAIR    ATOM PAIR\", \"blue\")\n",
    "_ = misc.print_table([RES_PAIR, ATOM_PAIR], spacing=12)"
   ]
  },
  {
   "cell_type": "code",
   "execution_count": null,
   "id": "fc072457",
   "metadata": {},
   "outputs": [],
   "source": [
    "rex_dirs = rex.get_REX_DIRS()\n",
    "\n",
    "for ndx, rex_dir in enumerate(rex_dirs, start=1):\n",
    "    rex.DCAREX_modify_topology(top_fin=f\"{misc.relpath(rex_dir)}/topol.top\", \n",
    "                               DCA_used_fin=f\"important_files/{pdbid.upper()}_DCA_used.txt\",\n",
    "                               force_k=10, \n",
    "                               save_as=f\"{misc.relpath(rex_dir)}/topol_mod.top\")\n",
    "    \n",
    "    if ndx == 1:\n",
    "        misc.cp(f\"{misc.relpath(rex_dir)}/topol_mod.top\", \"./important_files/\")"
   ]
  },
  {
   "cell_type": "markdown",
   "id": "c8c109ea",
   "metadata": {},
   "source": [
    "# prep REX run files (temps, mdp, tpr)"
   ]
  },
  {
   "cell_type": "code",
   "execution_count": null,
   "id": "3693b226",
   "metadata": {},
   "outputs": [],
   "source": [
    "rex_dirs = rex.get_REX_DIRS()\n",
    "rex.prep_REX_temps(T_0=280, n_REX=len(rex_dirs), k=0.006)"
   ]
  },
  {
   "cell_type": "code",
   "execution_count": null,
   "id": "cc09d941",
   "metadata": {},
   "outputs": [],
   "source": [
    "rex.prep_REX_mdp(main_dir=\"./\", n_REX=len(rex_dirs))"
   ]
  },
  {
   "cell_type": "code",
   "execution_count": null,
   "id": "37809d4d",
   "metadata": {},
   "outputs": [],
   "source": [
    "rex.prep_REX_tpr(main_dir=\"./\", n_REX=len(rex_dirs))"
   ]
  },
  {
   "cell_type": "code",
   "execution_count": null,
   "id": "ae771765",
   "metadata": {},
   "outputs": [],
   "source": [
    "# upload files on HPC and execute production run"
   ]
  },
  {
   "cell_type": "code",
   "execution_count": null,
   "id": "071d5745",
   "metadata": {},
   "outputs": [],
   "source": []
  }
 ],
 "metadata": {
  "kernelspec": {
   "display_name": "Python 3",
   "language": "python",
   "name": "python3"
  },
  "language_info": {
   "codemirror_mode": {
    "name": "ipython",
    "version": 3
   },
   "file_extension": ".py",
   "mimetype": "text/x-python",
   "name": "python",
   "nbconvert_exporter": "python",
   "pygments_lexer": "ipython3",
   "version": "3.8.5"
  }
 },
 "nbformat": 4,
 "nbformat_minor": 5
}
