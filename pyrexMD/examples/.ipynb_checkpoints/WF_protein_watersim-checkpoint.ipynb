{
 "cells": [
  {
   "cell_type": "code",
   "execution_count": null,
   "id": "68079f9c",
   "metadata": {},
   "outputs": [],
   "source": [
    "import pyrexMD.misc as misc\n",
    "import pyrexMD.gmx as gmx\n",
    "\n",
    "misc.cd(\"./files/protein/\")\n",
    "pdb = \"./1l2y.pdb\""
   ]
  },
  {
   "cell_type": "code",
   "execution_count": null,
   "id": "ba6715ff",
   "metadata": {},
   "outputs": [],
   "source": [
    "# create ref pdb\n",
    "ref = gmx.get_ref_structure(pdb, ff='amber99sb-ildn', water='tip3p', ignh=True)"
   ]
  },
  {
   "cell_type": "code",
   "execution_count": null,
   "id": "37d4eeba",
   "metadata": {},
   "outputs": [],
   "source": [
    "# generate topology & box\n",
    "gmx.pdb2gmx(f=ref, o=\"protein.gro\", ff='amber99sb-ildn', water='tip3p', ignh=True)\n",
    "gmx.editconf(f=\"protein.gro\", o=\"box.gro\", d=2.0, c=True, bt=\"cubic\")"
   ]
  },
  {
   "cell_type": "code",
   "execution_count": null,
   "id": "3f8e7f3c",
   "metadata": {},
   "outputs": [],
   "source": [
    "# generate solvent & ions\n",
    "gmx.solvate(cp=\"box.gro\", o=\"solvent.gro\")\n",
    "gmx.grompp(f=\"ions.mdp\", o=\"ions.tpr\",c=\"solvent.gro\")\n",
    "gmx.genion(s=\"ions.tpr\", o=\"ions.gro\", neutral=True, input=\"SOL\")"
   ]
  },
  {
   "cell_type": "code",
   "execution_count": null,
   "id": "2bf8e8e6",
   "metadata": {},
   "outputs": [],
   "source": [
    "# minimize\n",
    "gmx.grompp(f=\"min.mdp\", o=\"min.tpr\", c=\"ions.gro\")\n",
    "gmx.mdrun(deffnm=\"min\")"
   ]
  },
  {
   "cell_type": "code",
   "execution_count": null,
   "id": "e8c48524",
   "metadata": {},
   "outputs": [],
   "source": [
    "# NVT equilibration\n",
    "gmx.grompp(f=\"nvt.mdp\", o=\"nvt.tpr\", c=\"min.gro\", r=\"min.gro\")\n",
    "gmx.mdrun(deffnm=\"nvt\")"
   ]
  },
  {
   "cell_type": "code",
   "execution_count": null,
   "id": "f15b55dc",
   "metadata": {},
   "outputs": [],
   "source": [
    "# NPT equilibration\n",
    "gmx.grompp(f=\"npt.mdp\", o=\"npt.tpr\", c=\"nvt.gro\", r=\"nvt.gro\", t=\"nvt.cpt\")\n",
    "gmx.mdrun(deffnm=\"npt\")"
   ]
  },
  {
   "cell_type": "code",
   "execution_count": null,
   "id": "418f546f",
   "metadata": {},
   "outputs": [],
   "source": [
    "# MD run\n",
    "gmx.grompp(-f\"md.mdp\", o=\"traj.tpr\", c=\"npt.gro\", t=\"npt.cpt\")\n",
    "gmx.mdrun(deffn=\"traj\")"
   ]
  }
 ],
 "metadata": {
  "kernelspec": {
   "display_name": "Python 3",
   "language": "python",
   "name": "python3"
  },
  "language_info": {
   "codemirror_mode": {
    "name": "ipython",
    "version": 3
   },
   "file_extension": ".py",
   "mimetype": "text/x-python",
   "name": "python",
   "nbconvert_exporter": "python",
   "pygments_lexer": "ipython3",
   "version": "3.8.5"
  }
 },
 "nbformat": 4,
 "nbformat_minor": 5
}
