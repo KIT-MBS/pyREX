{
 "cells": [
  {
   "cell_type": "markdown",
   "id": "3045e371",
   "metadata": {},
   "source": [
    "# This jupyter notebook contains examples about\n",
    "- some basic functions related to native contacts / bias contact analyses\n",
    "- interactive plots"
   ]
  },
  {
   "cell_type": "code",
   "execution_count": null,
   "id": "0fd887c4",
   "metadata": {},
   "outputs": [],
   "source": [
    "%matplotlib notebook\n",
    "\n",
    "import numpy as np\n",
    "import matplotlib.pyplot as plt\n",
    "import seaborn as sns\n",
    "import MDAnalysis as mda\n",
    "import pyrexMD.core as core\n",
    "import pyrexMD.misc as misc\n",
    "import pyrexMD.topology as top\n",
    "import pyrexMD.analysis.analysis as ana\n",
    "import pyrexMD.analysis.contacts as con"
   ]
  },
  {
   "cell_type": "markdown",
   "id": "8aa0c82f",
   "metadata": {},
   "source": [
    "# Native Contact Analyses"
   ]
  },
  {
   "cell_type": "code",
   "execution_count": null,
   "id": "090691ac",
   "metadata": {},
   "outputs": [],
   "source": [
    "### define MDAnalysis universes to handle data. \n",
    "### in this case we just want to compare two different conformations and have no trajectory data\n",
    "\n",
    "pdb1 = \"files/contacts/1vii_ref.pdb\"\n",
    "pdb2 = \"files/contacts/1vii_unfolded_frame.pdb\"\n",
    "\n",
    "u1 = mda.Universe(pdb1)\n",
    "u2 = mda.Universe(pdb2)"
   ]
  },
  {
   "cell_type": "code",
   "execution_count": null,
   "id": "c9ba278c",
   "metadata": {},
   "outputs": [],
   "source": [
    "### check models via trajectory viewer\n",
    "\n",
    "tv1 = core.iPlayer(u1)\n",
    "tv1()\n",
    "\n",
    "tv2 = core.iPlayer(u2)\n",
    "tv2()"
   ]
  },
  {
   "cell_type": "code",
   "execution_count": null,
   "id": "e5edceba",
   "metadata": {},
   "outputs": [],
   "source": [
    "### get native contacts and save log file\n",
    "# NC: native contacts (unique RES pairs)\n",
    "# NC_d: detailed list of NCs containing (RES pairs), (ATOM numbers), (ATOM names)\n",
    "\n",
    "NC, NC_d = con.get_Native_Contacts(u1, d_cutoff=6.0, sel=\"protein\", save_as=\"files/contacts/1vii_native.txt\")"
   ]
  },
  {
   "cell_type": "code",
   "execution_count": null,
   "id": "f2c0ac1f",
   "metadata": {
    "scrolled": true
   },
   "outputs": [],
   "source": [
    "NC"
   ]
  },
  {
   "cell_type": "code",
   "execution_count": null,
   "id": "9eb33e54",
   "metadata": {
    "scrolled": true
   },
   "outputs": [],
   "source": [
    "NC_d"
   ]
  },
  {
   "cell_type": "code",
   "execution_count": null,
   "id": "6fa9e289",
   "metadata": {},
   "outputs": [],
   "source": [
    "### plot native contacts\n",
    "\n",
    "fig, ax = con.plot_Contact_Map(u1, sel=\"protein\")"
   ]
  },
  {
   "cell_type": "code",
   "execution_count": null,
   "id": "6986e224",
   "metadata": {},
   "outputs": [],
   "source": [
    "### plot native contacts and compare with contacts from input file \n",
    "# (grey=native, green=native and in file, red=nonnative and in file)\n",
    "\n",
    "fig, ax = con.plot_Contact_Map(u1, DCA_fin=\"files/contacts/1vii_native_contacts.txt\", n_DCA=None)"
   ]
  },
  {
   "cell_type": "code",
   "execution_count": null,
   "id": "753cfdb0",
   "metadata": {},
   "outputs": [],
   "source": [
    "### test plot function for a set of nonnative contacts\n",
    "# (grey=native, green=native and in file, red=nonnative and in file)\n",
    "\n",
    "fig, ax = con.plot_Contact_Map(u1, DCA_fin=\"files/contacts/1vii_nonnative_contacts.txt\", n_DCA=None)"
   ]
  },
  {
   "cell_type": "code",
   "execution_count": null,
   "id": "54ec592a",
   "metadata": {},
   "outputs": [],
   "source": [
    "### use plot function to comapare the two different conformations by using native contacts from log file\n",
    "# green=native contacts in both models\n",
    "# red=native contact only in u2 (unfolded)  -> contacts broke up\n",
    "# grey=native contact only in u2 (unfolded) -> new formed contact\n",
    "\n",
    "fig, ax = con.plot_Contact_Map(u2, DCA_fin=\"files/contacts/1vii_native_contacts.txt\", n_DCA=None)"
   ]
  },
  {
   "cell_type": "code",
   "execution_count": null,
   "id": "a6f1dc33",
   "metadata": {
    "scrolled": false
   },
   "outputs": [],
   "source": [
    "### get native contact distances\n",
    "# NC: native contacts\n",
    "# NC_dist: native contact distances\n",
    "# DM: distance matrices\n",
    "\n",
    "NC, NC_dist, DM = con.get_NC_distances(u1, u1, sel=\"protein\", d_cutoff=6.0)"
   ]
  },
  {
   "cell_type": "code",
   "execution_count": null,
   "id": "03d8a89f",
   "metadata": {},
   "outputs": [],
   "source": [
    "### print table with distances and native contact pairs\n",
    "\n",
    "misc.cprint(\"distance  NC pair\", \"blue\")\n",
    "_ = misc.print_table([NC_dist, NC], spacing=10)"
   ]
  },
  {
   "cell_type": "code",
   "execution_count": null,
   "id": "468ac72a",
   "metadata": {},
   "outputs": [],
   "source": [
    "### plot contact map with native contact distances\n",
    "#(grey = distance larger than highest color threshold)\n",
    "\n",
    "fig, ax = con.plot_Contact_Map_Distances(u1, NC, NC_dist, pdbid=\"1vii\", sel=\"protein\")"
   ]
  },
  {
   "cell_type": "code",
   "execution_count": null,
   "id": "80b318eb",
   "metadata": {},
   "outputs": [],
   "source": [
    "### plot true posive rate (TPR)\n",
    "# input file '1vii.rr' contains predicted contacts with cutoff = 8A\n",
    "# figure shows:\n",
    "#     - blue line: TPR\n",
    "#     - red line: 75% cutoff threshold (TPR of used number of contacts should be above 75% for contact-guided REX, see  https://doi.org/10.1371/journal.pone.0242072)\n",
    "#     - orange lines: suggested/guessed optimum number of contacts and the corresponding TPR\n",
    "#     - orange region: suggested region of interest between L/2 and L contacts\n",
    "\n",
    "fig, ax = con.plot_DCA_TPR(u1, DCA_fin=\"files/contacts/1vii.rr\", n_DCA=80, d_cutoff=8.0)"
   ]
  },
  {
   "cell_type": "code",
   "execution_count": null,
   "id": "b41996cd",
   "metadata": {},
   "outputs": [],
   "source": [
    "### TEST FIG for plot_DCA_TPR\n",
    "### this test file contains: 10 native -> 10 nonnative -> rest native\n",
    "# fig, ax = con.plot_DCA_TPR(u1, DCA_fin=\"files/contacts/1vii_mixed_contacts.txt\", n_DCA=80)"
   ]
  },
  {
   "cell_type": "markdown",
   "id": "c52ed12f",
   "metadata": {},
   "source": [
    "# QNative Analysis\n",
    "- QNative: QValues for native contacts"
   ]
  },
  {
   "cell_type": "code",
   "execution_count": null,
   "id": "f826835a",
   "metadata": {},
   "outputs": [],
   "source": [
    "ref = \"files/traj/2hba_ChainB_ref.pdb\"\n",
    "top = \"files/traj/traj_protein.tpr\"\n",
    "traj = \"files/traj/traj_protein.xtc\"\n",
    "u1 = mda.Universe(top,traj)   # mobile\n",
    "u2 = mda.Universe(ref)        # reference\n",
    "\n",
    "tv1 = core.iPlayer(u1)\n",
    "tv1()\n",
    "tv2 = core.iPlayer(u2)\n",
    "tv2()"
   ]
  },
  {
   "cell_type": "code",
   "execution_count": null,
   "id": "8c637805",
   "metadata": {},
   "outputs": [],
   "source": [
    "### calculate QValues for native contacts\n",
    "FRAMES, QNATIVE = con.get_QNative(u1,u2, method=\"radius_cut\", sel=\"protein and name CA\", marker=\"None\", lw=1)"
   ]
  },
  {
   "cell_type": "code",
   "execution_count": null,
   "id": "ddb8626d",
   "metadata": {},
   "outputs": [],
   "source": [
    "### get native contacts\n",
    "# NC: native contacts (unique RES pairs)\n",
    "# NC_d: detailed list of NCs containing (RES pairs), (ATOM numbers), (ATOM names)\n",
    "\n",
    "NC, NC_d = con.get_Native_Contacts(u1, sel=\"protein and name CA\")\n",
    "NC"
   ]
  },
  {
   "cell_type": "markdown",
   "id": "3de7904e",
   "metadata": {},
   "source": [
    "# QBias Analysis\n",
    "- QBias: QValues for bias contacts"
   ]
  },
  {
   "cell_type": "code",
   "execution_count": null,
   "id": "5ecbd0e9",
   "metadata": {},
   "outputs": [],
   "source": [
    "ref = \"files/traj/2hba_ChainB_ref.pdb\"\n",
    "top = \"files/traj/traj_protein.tpr\"\n",
    "traj = \"files/traj/traj_protein.xtc\"\n",
    "u1 = mda.Universe(top,traj)   # mobile\n",
    "u2 = mda.Universe(ref)        # reference\n",
    "\n",
    "sel = \"protein and name CA\"\n",
    "NC, NC_d = con.get_Native_Contacts(u2, sel=sel)"
   ]
  },
  {
   "cell_type": "code",
   "execution_count": null,
   "id": "7ad2cfd3",
   "metadata": {},
   "outputs": [],
   "source": [
    "### test get_QBias(): \n",
    "# - use native contacts AND selfcontacts as bias contacts\n",
    "# - compare difference with get_QNative()\n",
    "\n",
    "FRAMES, QBIAS, CM = con.get_QBias(u1, NC, d_cutoff=6.0, include_selfcontacts=True, warn=True, marker=None, lw=1)\n",
    "\n",
    "misc.cprint(\"Comparison: QNative - QBias\", \"blue\")\n",
    "print(QNATIVE - QBIAS)"
   ]
  },
  {
   "cell_type": "code",
   "execution_count": null,
   "id": "3c0a3e24",
   "metadata": {},
   "outputs": [],
   "source": [
    "### test get_QBias(): \n",
    "# - use native contacts without selfcontacts as bias contacts\n",
    "# - compare difference with get_QNative()\n",
    "\n",
    "FRAMES, QBIAS, CM = con.get_QBias(u1, NC, d_cutoff=6.0, include_selfcontacts=False, warn=False, marker=None, lw=1)\n",
    "misc.cprint(\"Comparison: QNative - QBias\", \"blue\")\n",
    "print(QNATIVE - QBIAS)"
   ]
  },
  {
   "cell_type": "code",
   "execution_count": null,
   "id": "773ccd6e",
   "metadata": {},
   "outputs": [],
   "source": [
    "### extract formed contact pairs for first frame\n",
    "\n",
    "CP = con.get_formed_contactpairs(u1, CM[0], include_selfcontacts=False)\n",
    "CP"
   ]
  },
  {
   "cell_type": "markdown",
   "id": "4a8cda6f",
   "metadata": {},
   "source": [
    "# Interactive Plots"
   ]
  },
  {
   "cell_type": "code",
   "execution_count": null,
   "id": "8c3fbe96",
   "metadata": {},
   "outputs": [],
   "source": [
    "### create interactive plot:\n",
    "# - ctrl-click or shift-click into plot to jump to specific frames\n",
    "# - click on TIME/FRAME widget to toggle between modes\n",
    "\n",
    "IP = core.iPlot(u1, xdata=FRAMES, ydata=QBIAS, xlabel=\"frame\", ylabel=\"QBias\")\n",
    "IP()"
   ]
  },
  {
   "cell_type": "code",
   "execution_count": null,
   "id": "502feb42",
   "metadata": {},
   "outputs": [],
   "source": []
  }
 ],
 "metadata": {
  "kernelspec": {
   "display_name": "Python 3",
   "language": "python",
   "name": "python3"
  },
  "language_info": {
   "codemirror_mode": {
    "name": "ipython",
    "version": 3
   },
   "file_extension": ".py",
   "mimetype": "text/x-python",
   "name": "python",
   "nbconvert_exporter": "python",
   "pygments_lexer": "ipython3",
   "version": "3.8.5"
  }
 },
 "nbformat": 4,
 "nbformat_minor": 5
}
