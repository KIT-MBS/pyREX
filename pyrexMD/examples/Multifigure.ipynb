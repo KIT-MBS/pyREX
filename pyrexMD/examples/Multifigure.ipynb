{
 "cells": [
  {
   "cell_type": "markdown",
   "id": "7adf6d18",
   "metadata": {},
   "source": [
    "# This jupyter notebook contains two examples of \n",
    "- how to create multi figures"
   ]
  },
  {
   "cell_type": "code",
   "execution_count": null,
   "id": "bba705d3",
   "metadata": {},
   "outputs": [],
   "source": [
    "%matplotlib notebook\n",
    "#%matplotlib inline\n",
    "\n",
    "import numpy as np\n",
    "import matplotlib.pyplot as plt\n",
    "import seaborn as sns\n",
    "import MDAnalysis as mda\n",
    "import pyrexMD.misc as misc\n",
    "import pyrexMD.core as core\n",
    "import pyrexMD.analysis.analysis as ana\n",
    "import pyrexMD.analysis.gdt as gdt\n",
    "\n",
    "misc.apply_matplotlib_rc_settings()"
   ]
  },
  {
   "cell_type": "markdown",
   "id": "b778e96d",
   "metadata": {},
   "source": [
    "# multi-figure via misc.figure()"
   ]
  },
  {
   "cell_type": "code",
   "execution_count": null,
   "id": "c91db026",
   "metadata": {},
   "outputs": [],
   "source": [
    "### read help(misc.figure) for more info about modified figure function\n",
    "fig, ax = misc.figure(grid=[2, 2], wr=[3,1])\n",
    "\n",
    "# change between axes and plot data\n",
    "plt.sca(ax[0])\n",
    "plt.plot([1,2,3],[1,2,3])\n",
    "plt.xlabel(\"xlabel\")\n",
    "plt.ylabel(\"ylabel\")\n",
    "\n",
    "plt.sca(ax[1])\n",
    "plt.plot([1,2,3],[-1,-2,-3])\n",
    "\n",
    "plt.sca(ax[2])\n",
    "plt.plot(FRAME,RMSD)\n",
    "plt.sca(ax[3])\n",
    "\n",
    "plt.hist(RMSD)\n",
    "plt.tight_layout()"
   ]
  },
  {
   "cell_type": "markdown",
   "id": "0ecd9fe4",
   "metadata": {},
   "source": [
    "# multi-figure via misc.pickle_plot() to reuse pickled figures"
   ]
  },
  {
   "cell_type": "code",
   "execution_count": null,
   "id": "2fdf836b",
   "metadata": {},
   "outputs": [],
   "source": [
    "### define MDAnalysis universes to handle data. \n",
    "# in this case we define:\n",
    "# - ref: universe with reference structure\n",
    "# - mobile: universe with trajectory\n",
    "\n",
    "pdb = \"files/traj/2hba_ChainB_ref.pdb\"\n",
    "tpr = \"files/traj/traj_protein.tpr\"\n",
    "traj = \"files/traj/traj_protein.xtc\"\n",
    "\n",
    "ref = mda.Universe(pdb)\n",
    "mobile = mda.Universe(tpr, traj)\n",
    "\n",
    "tv = core.iPlayer(mobile)\n",
    "tv()"
   ]
  },
  {
   "cell_type": "code",
   "execution_count": null,
   "id": "9143c120",
   "metadata": {},
   "outputs": [],
   "source": [
    "# get some random data to plot\n",
    "sel = \"protein and name CA\"\n",
    "FRAME, TIME, RMSD = ana.get_RMSD(mobile, ref, sel1=sel, sel2=sel)\n",
    "\n",
    "# plot and pickle dump\n",
    "fig , ax = ana.PLOT(xdata=FRAME, ydata=RMSD, alpha=1, marker=None, xlabel=\"frame\", ylabel=r\"RMSD ($\\AA$)\")\n",
    "plt.ylim(0.0, 1.4)\n",
    "pickle_RMSD = misc.pickle_dump(fig, \"files/pickle/RMSD_PLOT.pickle\")\n",
    "fig, ax, hist = ana.plot_hist(RMSD, n_bins=15, vmin=0.0, vmax=1.4, orientation=\"horizontal\")\n",
    "pickle_HIST = misc.pickle_dump(fig, \"files/pickle/RMSD_HIST.pickle\")"
   ]
  },
  {
   "cell_type": "code",
   "execution_count": null,
   "id": "907e9d7c",
   "metadata": {
    "scrolled": true
   },
   "outputs": [],
   "source": [
    "### example of creating multi-figures by reusing pickled figures\n",
    "# bug: %matplotlib notebook backend leaves empty space below when closing figs which were loaded via pickle.\n",
    "#      does not matter since goal is to create and save the multi figure\n",
    "\n",
    "fig, ax = misc.pickle_plot([pickle_RMSD, pickle_HIST], figsize=(8,3), wr=[2,1], hr=[1,1])\n",
    "\n",
    "plt.sca(ax[0])\n",
    "plt.xlabel(\"Frame\", fontweight=\"bold\")\n",
    "plt.ylabel(r\"RMSD ($\\rm{\\AA}$)\", fontweight=\"bold\")\n",
    "plt.sca(ax[1])\n",
    "plt.xlabel(\"Counts\", fontweight=\"bold\")\n",
    "plt.ylabel(r\"RMSD ($\\rm{\\AA}$)\", fontweight=\"bold\")\n",
    "plt.tight_layout()\n",
    "\n",
    "misc.savefig(\"files/figs/multifig_from_pickle.png\", dpi=300)"
   ]
  }
 ],
 "metadata": {
  "kernelspec": {
   "display_name": "Python 3",
   "language": "python",
   "name": "python3"
  },
  "language_info": {
   "codemirror_mode": {
    "name": "ipython",
    "version": 3
   },
   "file_extension": ".py",
   "mimetype": "text/x-python",
   "name": "python",
   "nbconvert_exporter": "python",
   "pygments_lexer": "ipython3",
   "version": "3.8.5"
  }
 },
 "nbformat": 4,
 "nbformat_minor": 5
}
