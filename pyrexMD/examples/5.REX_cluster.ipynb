{
 "cells": [
  {
   "cell_type": "markdown",
   "metadata": {},
   "source": [
    "# This jupyter notebook contains a basic example of\n",
    "- how to cluster and (potentially) select REX structure ensembles from a contact-guided REX simulation\n",
    "\n",
    "Note: you should be already familiar with:\n",
    "- concept of dimension reduction (here TSNE)\n",
    "- concept of clustering (here KMeans)"
   ]
  },
  {
   "cell_type": "code",
   "execution_count": null,
   "metadata": {},
   "outputs": [],
   "source": [
    "%matplotlib notebook\n",
    "\n",
    "import pyrexMD.misc as misc\n",
    "import pyrexMD.decoy.cluster as clu"
   ]
  },
  {
   "cell_type": "markdown",
   "metadata": {},
   "source": [
    "# general steps\n",
    "1) pre-filter REX trajectory based on task-specific criteria (e.g. QBias, QNative, Energies...)\n",
    "<br>2) calculate distance matrices for filtered frames\n",
    "<br>3) cluster filtered frames\n",
    "\n",
    "In this example we start at step 3) and use unpublished sample data"
   ]
  },
  {
   "cell_type": "code",
   "execution_count": null,
   "metadata": {},
   "outputs": [],
   "source": [
    "# load data\n",
    "QBias = misc.pickle_load(\"./files/cluster/QBias.pickle\")\n",
    "RMSD = misc.pickle_load(\"./files/cluster/RMSD.pickle\")\n",
    "GDT_TS = misc.pickle_load(\"./files/cluster/GDT_TS.pickle\")\n",
    "\n",
    "score_file = \"./files/cluster/energies.log\"\n",
    "ENERGY = misc.read_file(score_file, usecols=1, skiprows=1)\n",
    "DM = clu.read_h5(\"./files/cluster/DM.h5\")"
   ]
  },
  {
   "cell_type": "code",
   "execution_count": null,
   "metadata": {},
   "outputs": [],
   "source": [
    "# apply TSNE for dimension reduction\n",
    "tsne = clu.apply_TSNE(DM, n_components=2, perplexity=50, random_state=1)\n",
    "\n",
    "### apply KMeans on TSNE-transformed data (two variants with low and high cluster number)\n",
    "# note: here we set the high number only to 20 because our sample is small with only 500 frames\n",
    "\n",
    "cluster10 = clu.apply_KMEANS(tsne, n_clusters=10, random_state=1)\n",
    "cluster20 = clu.apply_KMEANS(tsne, n_clusters=20, random_state=1)"
   ]
  },
  {
   "cell_type": "code",
   "execution_count": null,
   "metadata": {},
   "outputs": [],
   "source": [
    "### map scores (energies) and accuracy (GDT, RMSD) to clusters\n",
    "cluster10_scores = clu.map_cluster_scores(cluster_data=cluster10, score_file=score_file)\n",
    "cluster10_accuracy = clu.map_cluster_accuracy(cluster_data=cluster10, GDT=GDT_TS, RMSD=RMSD)\n",
    "\n",
    "cluster20_scores = clu.map_cluster_scores(cluster_data=cluster20, score_file=score_file)\n",
    "cluster20_accuracy = clu.map_cluster_accuracy(cluster_data=cluster20, GDT=GDT_TS, RMSD=RMSD)"
   ]
  },
  {
   "cell_type": "code",
   "execution_count": null,
   "metadata": {},
   "outputs": [],
   "source": [
    "### plot cluster data\n",
    "# here: TSNE-transformed data with n_clusters = 10\n",
    "# also: plot cluster centers with different colors \n",
    "#     - red dot: n10 centers\n",
    "#     - black dot: n20 centers\n",
    "\n",
    "clu.plot_cluster_data(cluster10, tsne, ms=40)\n",
    "clu.plot_cluster_centers(cluster10, marker=\"o\", color=\"red\", ms=20)\n",
    "clu.plot_cluster_centers(cluster20, marker=\"o\", color=\"black\")"
   ]
  },
  {
   "cell_type": "code",
   "execution_count": null,
   "metadata": {},
   "outputs": [],
   "source": [
    "### plot cluster data\n",
    "# here: TSNE-transformed data with n_clusters = 20\n",
    "# also: plot cluster centers with different colors \n",
    "#     - red dot: n10 centers\n",
    "#     - black dot: n20 centers\n",
    "\n",
    "clu.plot_cluster_data(cluster20, tsne)\n",
    "clu.plot_cluster_centers(cluster10, marker=\"o\", color=\"red\", ms=20)\n",
    "clu.plot_cluster_centers(cluster20, marker=\"o\", color=\"black\")"
   ]
  },
  {
   "cell_type": "code",
   "execution_count": null,
   "metadata": {},
   "outputs": [],
   "source": [
    "### print table with cluster scores stats\n",
    "\n",
    "clu.WF_print_cluster_scores(cluster_data=cluster10, cluster_scores=cluster10_scores)\n",
    "print(\"-------------------------------------------------------------------\")\n",
    "clu.WF_print_cluster_scores(cluster_data=cluster20, cluster_scores=cluster20_scores)"
   ]
  },
  {
   "cell_type": "code",
   "execution_count": null,
   "metadata": {},
   "outputs": [],
   "source": [
    "### print table with cluster accuracy stats\n",
    "\n",
    "clu.WF_print_cluster_accuracy(cluster_data=cluster10, cluster_accuracy=cluster10_accuracy)\n",
    "print(\"---------------------------------------------------------------------------------\")\n",
    "clu.WF_print_cluster_accuracy(cluster_data=cluster20, cluster_accuracy=cluster20_accuracy)"
   ]
  },
  {
   "cell_type": "markdown",
   "metadata": {},
   "source": [
    "Note: based on initial filtering and setup of energy function it is possible to \"guess\" good structure ensembles and verify selections based on accuracy stats"
   ]
  },
  {
   "cell_type": "code",
   "execution_count": null,
   "metadata": {},
   "outputs": [],
   "source": []
  }
 ],
 "metadata": {
  "kernelspec": {
   "display_name": "Python 3",
   "language": "python",
   "name": "python3"
  },
  "language_info": {
   "codemirror_mode": {
    "name": "ipython",
    "version": 3
   },
   "file_extension": ".py",
   "mimetype": "text/x-python",
   "name": "python",
   "nbconvert_exporter": "python",
   "pygments_lexer": "ipython3",
   "version": "3.6.9"
  }
 },
 "nbformat": 4,
 "nbformat_minor": 5
}
