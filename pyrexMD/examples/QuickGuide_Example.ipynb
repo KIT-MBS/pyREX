{
 "cells": [
  {
   "cell_type": "code",
   "execution_count": null,
   "metadata": {},
   "outputs": [],
   "source": [
    "%matplotlib notebook\n",
    "\n",
    "import MDAnalysis as mda\n",
    "import pyrexMD.misc as misc\n",
    "import pyrexMD.core as core\n",
    "import pyrexMD.topology as top\n",
    "import pyrexMD.analysis.analyze as ana\n",
    "import pyrexMD.analysis.contacts as con\n",
    "\n",
    "from tqdm.notebook import tqdm"
   ]
  },
  {
   "cell_type": "code",
   "execution_count": null,
   "metadata": {},
   "outputs": [],
   "source": [
    "ref1 = \"./files/folding/1vii_ref.pdb\"\n",
    "ref2= \"./files/folding/1vii_unfolded_frame.pdb\"\n",
    "tpr = \"./files/folding/traj_protein.tpr\"\n",
    "xtc = \"./files/folding/traj_protein.xtc\""
   ]
  },
  {
   "cell_type": "code",
   "execution_count": null,
   "metadata": {},
   "outputs": [],
   "source": [
    "folded = mda.Universe(ref1)\n",
    "unfolded = mda.Universe(ref2)\n",
    "mobile = mda.Universe(tpr, xtc)\n",
    "\n",
    "top.norm_universe([folded, unfolded, mobile], verbose=False)"
   ]
  },
  {
   "cell_type": "code",
   "execution_count": null,
   "metadata": {},
   "outputs": [],
   "source": [
    "FRAME, TIME, RMSD = ana.get_RMSD(mobile, ref=folded, sel1=\"protein\", sel2=\"protein\")"
   ]
  },
  {
   "cell_type": "code",
   "execution_count": null,
   "metadata": {},
   "outputs": [],
   "source": [
    "IP = core.iPlot(mobile, xdata=TIME, ydata=RMSD, ylabel=\"RMSD (A)\")\n",
    "IP()"
   ]
  },
  {
   "cell_type": "code",
   "execution_count": null,
   "metadata": {},
   "outputs": [],
   "source": [
    "# in this demo we will use native contacts as bias contacts but usually you would use predicted contacts\n",
    "NC, NC_d = con.get_Native_Contacts(folded)\n",
    "_ = con.get_QBias(mobile, bc=NC, d_cutoff=10.0, warn=False)"
   ]
  },
  {
   "cell_type": "code",
   "execution_count": null,
   "metadata": {},
   "outputs": [],
   "source": [
    "NC, NC_d = con.get_Native_Contacts(unfolded, sel=\"protein\", save_as=\"files/folding/unfolded_contacts.txt\")\n",
    "fig, ax = con.plot_Contact_Map(folded, DCA_fin=\"files/folding/unfolded_contacts.txt\", sel=\"protein\", figsize=(7,7))\n",
    "#misc.save_fig(\"ContactMap_v1.pdf\", dpi=300)\n",
    "#misc.save_fig(\"ContactMap_v1.png\", dpi=300)"
   ]
  },
  {
   "cell_type": "code",
   "execution_count": null,
   "metadata": {},
   "outputs": [],
   "source": [
    "\n",
    "NC, NC_dist, DM = con.get_NC_distances(folded, folded)\n",
    "fig, ax = con.plot_Contact_Map_Distances(folded, NC=NC, NC_dist=NC_dist, sel=\"protein\",figsize=(7,7))\n",
    "#misc.save_fig(\"ContactMap_v2.pdf\", dpi=300)\n",
    "#misc.save_fig(\"ContactMap_v2.png\", dpi=300)"
   ]
  },
  {
   "cell_type": "code",
   "execution_count": null,
   "metadata": {},
   "outputs": [],
   "source": []
  },
  {
   "cell_type": "code",
   "execution_count": null,
   "metadata": {},
   "outputs": [],
   "source": []
  }
 ],
 "metadata": {
  "kernelspec": {
   "display_name": "Python 3",
   "language": "python",
   "name": "python3"
  },
  "language_info": {
   "codemirror_mode": {
    "name": "ipython",
    "version": 3
   },
   "file_extension": ".py",
   "mimetype": "text/x-python",
   "name": "python",
   "nbconvert_exporter": "python",
   "pygments_lexer": "ipython3",
   "version": "3.6.9"
  }
 },
 "nbformat": 4,
 "nbformat_minor": 5
}
