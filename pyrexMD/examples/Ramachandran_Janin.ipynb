{
 "cells": [
  {
   "cell_type": "markdown",
   "id": "cf772983",
   "metadata": {},
   "source": [
    "# This jupyter notebook contains examples of\n",
    "- basic ramachandran/janin plot related functions"
   ]
  },
  {
   "cell_type": "code",
   "execution_count": null,
   "id": "a41bca6f",
   "metadata": {},
   "outputs": [],
   "source": [
    "%matplotlib notebook\n",
    "\n",
    "import numpy as np\n",
    "import matplotlib.pyplot as plt\n",
    "import seaborn as sns\n",
    "import MDAnalysis as mda\n",
    "import pyrexMD.core as core\n",
    "import pyrexMD.misc as misc\n",
    "import pyrexMD.analysis.dihedrals as dih"
   ]
  },
  {
   "cell_type": "code",
   "execution_count": null,
   "id": "0e38d87f",
   "metadata": {},
   "outputs": [],
   "source": [
    "### define MDAnalysis universes to handle data. \n",
    "# in this case we define:\n",
    "# - ref: universe with reference structure\n",
    "# - mobile: universe with trajectory\n",
    "\n",
    "pdb = \"files/traj/2hba_ChainB_ref.pdb\"\n",
    "xtc = \"files/traj/traj2_protein.xtc\"\n",
    "u = mda.Universe(pdb, xtc)\n",
    "\n",
    "tv = core.iPlayer(u)\n",
    "tv()"
   ]
  },
  {
   "cell_type": "code",
   "execution_count": null,
   "id": "1f662fc8",
   "metadata": {},
   "outputs": [],
   "source": [
    "### Ramachandran plot with allowed regions\n",
    "rama1 = dih.get_ramachandran(u)"
   ]
  },
  {
   "cell_type": "code",
   "execution_count": null,
   "id": "07491778",
   "metadata": {},
   "outputs": [],
   "source": [
    "### Ramachandran plot without allowed regions; use only selected frames\n",
    "rama2 = dih.get_ramachandran(u, stop=4, ref=False)"
   ]
  },
  {
   "cell_type": "code",
   "execution_count": null,
   "id": "f209ea67",
   "metadata": {},
   "outputs": [],
   "source": [
    "### get dihedral angles for selection\n",
    "phi = dih.get_phi_values(u, sel=\"protein and resid 1-3\")\n",
    "psi = dih.get_psi_values(u, sel=\"protein and resid 1-3\")\n",
    "omega = dih.get_omega_values(u, sel=\"protein and resid 1-3\")\n",
    "\n",
    "misc.cprint(\"phi:\", \"red\")\n",
    "print(phi)\n",
    "misc.cprint(\"psi:\", \"red\")\n",
    "print(psi)\n",
    "misc.cprint(\"pomega:\", \"red\")\n",
    "print(omega)"
   ]
  },
  {
   "cell_type": "code",
   "execution_count": null,
   "id": "d5744dc5",
   "metadata": {},
   "outputs": [],
   "source": [
    "### Janin plot with allowed regions\n",
    "janin = dih.get_janin(u)"
   ]
  },
  {
   "cell_type": "code",
   "execution_count": null,
   "id": "6ab35409",
   "metadata": {},
   "outputs": [],
   "source": [
    "### Janin plot without allowed regions; use only selected frames\n",
    "janin = dih.get_janin(u, stop=3, ref=False, verbose=False)"
   ]
  },
  {
   "cell_type": "code",
   "execution_count": null,
   "id": "ce251141",
   "metadata": {},
   "outputs": [],
   "source": [
    "### get dihedral angles for selection\n",
    "chi1 = dih.get_chi1_values(u, sel=\"protein and resid 1-4\", verbose=False)\n",
    "chi2 = dih.get_chi1_values(u, sel=\"protein and resid 1-4\", verbose=False)\n",
    "\n",
    "misc.cprint(\"chi1:\", \"red\")\n",
    "print(chi1)\n",
    "misc.cprint(\"chi2:\", \"red\")\n",
    "print(chi2)"
   ]
  }
 ],
 "metadata": {
  "kernelspec": {
   "display_name": "Python 3",
   "language": "python",
   "name": "python3"
  },
  "language_info": {
   "codemirror_mode": {
    "name": "ipython",
    "version": 3
   },
   "file_extension": ".py",
   "mimetype": "text/x-python",
   "name": "python",
   "nbconvert_exporter": "python",
   "pygments_lexer": "ipython3",
   "version": "3.8.5"
  }
 },
 "nbformat": 4,
 "nbformat_minor": 5
}
