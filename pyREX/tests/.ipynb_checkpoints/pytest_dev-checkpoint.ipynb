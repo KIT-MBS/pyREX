{
 "cells": [
  {
   "cell_type": "code",
   "execution_count": 1,
   "id": "bf4c5701",
   "metadata": {},
   "outputs": [],
   "source": [
    "import pyREX\n",
    "import pyREX.misc as misc\n",
    "import MDAnalysis as mda\n",
    "import numpy as np\n",
    "from numpy.testing import assert_allclose\n",
    "\n",
    "\n",
    "pre = \"./files/1l2y/\"\n",
    "pdb = pre + \"1l2y_ref.pdb\"\n",
    "tpr = pre + \"traj.tpr\"\n",
    "xtc = pre + \"traj.xtc\"\n",
    "\n",
    "mobile = mda.Universe(tpr, xtc, tpr_resid_from_one=True)\n",
    "ref = mda.Universe(pdb)\n",
    "\n",
    "\n",
    "import pyREX.analysis.analysis as ana"
   ]
  },
  {
   "cell_type": "code",
   "execution_count": null,
   "id": "afd3be37",
   "metadata": {},
   "outputs": [],
   "source": []
  },
  {
   "cell_type": "code",
   "execution_count": null,
   "id": "4176dd1d",
   "metadata": {},
   "outputs": [],
   "source": [
    "mobile = mda.Universe(tpr, xtc, tpr_resid_from_one=False)\n",
    "ref = mda.Universe(pdb)\n",
    "ana.get_resids_shift(mobile, ref)"
   ]
  },
  {
   "cell_type": "code",
   "execution_count": null,
   "id": "46fe0ccf",
   "metadata": {},
   "outputs": [],
   "source": [
    "val = ana.get_Distance_Matrices(mobile)"
   ]
  },
  {
   "cell_type": "code",
   "execution_count": null,
   "id": "74ca464b",
   "metadata": {},
   "outputs": [],
   "source": [
    "np.save(\"files/1l2y/get_Distance_Matrices.npy\", val)"
   ]
  },
  {
   "cell_type": "code",
   "execution_count": null,
   "id": "4c15f803",
   "metadata": {},
   "outputs": [],
   "source": [
    "val[0]"
   ]
  },
  {
   "cell_type": "code",
   "execution_count": null,
   "id": "701fb3eb",
   "metadata": {},
   "outputs": [],
   "source": [
    "val[1]"
   ]
  },
  {
   "cell_type": "code",
   "execution_count": null,
   "id": "a48a405e",
   "metadata": {},
   "outputs": [],
   "source": [
    "val[2]"
   ]
  },
  {
   "cell_type": "code",
   "execution_count": null,
   "id": "5402015a",
   "metadata": {},
   "outputs": [],
   "source": [
    "np.load()"
   ]
  },
  {
   "cell_type": "code",
   "execution_count": null,
   "id": "1724df1c",
   "metadata": {},
   "outputs": [],
   "source": [
    "import Bio"
   ]
  },
  {
   "cell_type": "code",
   "execution_count": null,
   "id": "e1cbdd0f",
   "metadata": {},
   "outputs": [],
   "source": [
    "import pyREX.analysis.gdt as gdt\n",
    "def test_GDT_continous_segments():\n",
    "    GDT_resids = np.load(pre + \"GDT_resids.npy\", allow_pickle=True)\n",
    "    #with pytest.warns(DeprecationWarning):\n",
    "    GDT_continous_segments = gdt.GDT_continuous_segments(GDT_resids)\n",
    "    assert (GDT_continous_segments == np.load(pre + \"GDT_continous_segments.npy\", allow_pickle=True)).all()\n",
    "    return"
   ]
  },
  {
   "cell_type": "code",
   "execution_count": null,
   "id": "0f4c7ffd",
   "metadata": {},
   "outputs": [],
   "source": [
    "test_GDT_continous_segments()"
   ]
  },
  {
   "cell_type": "code",
   "execution_count": null,
   "id": "65c4da7b",
   "metadata": {},
   "outputs": [],
   "source": [
    "GDT_percent, GDT_resids, GDT_cutoff, RMSD, FRAME = gdt.GDT(mobile, ref)"
   ]
  },
  {
   "cell_type": "code",
   "execution_count": null,
   "id": "690fb578",
   "metadata": {},
   "outputs": [],
   "source": []
  }
 ],
 "metadata": {
  "kernelspec": {
   "display_name": "Python 3",
   "language": "python",
   "name": "python3"
  },
  "language_info": {
   "codemirror_mode": {
    "name": "ipython",
    "version": 3
   },
   "file_extension": ".py",
   "mimetype": "text/x-python",
   "name": "python",
   "nbconvert_exporter": "python",
   "pygments_lexer": "ipython3",
   "version": "3.8.5"
  }
 },
 "nbformat": 4,
 "nbformat_minor": 5
}
