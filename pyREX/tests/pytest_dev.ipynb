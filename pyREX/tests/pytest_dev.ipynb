{
 "cells": [
  {
   "cell_type": "code",
   "execution_count": 1,
   "id": "bf4c5701",
   "metadata": {},
   "outputs": [],
   "source": [
    "import pyREX\n",
    "import pyREX.misc as misc\n",
    "import MDAnalysis as mda\n",
    "import numpy as np\n",
    "from numpy.testing import assert_allclose\n",
    "\n",
    "\n",
    "pre = \"./files/1l2y/\"\n",
    "pdb = pre + \"1l2y_ref.pdb\"\n",
    "tpr = pre + \"traj.tpr\"\n",
    "xtc = pre + \"traj.xtc\"\n",
    "\n",
    "mobile = mda.Universe(tpr, xtc, tpr_resid_from_one=True)\n",
    "ref = mda.Universe(pdb)\n"
   ]
  },
  {
   "cell_type": "code",
   "execution_count": null,
   "id": "370f80e0",
   "metadata": {},
   "outputs": [],
   "source": []
  },
  {
   "cell_type": "code",
   "execution_count": null,
   "id": "07dbd27f",
   "metadata": {},
   "outputs": [],
   "source": []
  },
  {
   "cell_type": "code",
   "execution_count": null,
   "id": "80e06a4c",
   "metadata": {},
   "outputs": [],
   "source": []
  }
 ],
 "metadata": {
  "kernelspec": {
   "display_name": "Python 3",
   "language": "python",
   "name": "python3"
  },
  "language_info": {
   "codemirror_mode": {
    "name": "ipython",
    "version": 3
   },
   "file_extension": ".py",
   "mimetype": "text/x-python",
   "name": "python",
   "nbconvert_exporter": "python",
   "pygments_lexer": "ipython3",
   "version": "3.8.5"
  }
 },
 "nbformat": 4,
 "nbformat_minor": 5
}
