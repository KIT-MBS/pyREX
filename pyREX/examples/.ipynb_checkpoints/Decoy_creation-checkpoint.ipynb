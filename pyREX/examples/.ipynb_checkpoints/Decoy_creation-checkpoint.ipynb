{
 "cells": [
  {
   "cell_type": "code",
   "execution_count": 1,
   "id": "ecfada47",
   "metadata": {},
   "outputs": [
    {
     "name": "stdout",
     "output_type": "stream",
     "text": [
      "PyRosetta-4 2021 [Rosetta PyRosetta4.Release.python38.ubuntu 2021.17+release.b66bab60517eb4a467673f249a8cd2cff65f9f1d 2021-04-27T18:35:05] retrieved from: http://www.pyrosetta.org\n",
      "(C) Copyright Rosetta Commons Member Institutions. Created in JHU by Sergey Lyskov and PyRosetta Team.\n",
      "\u001b[0mcore.init: \u001b[0mChecking for fconfig files in pwd and ./rosetta/flags\n",
      "\u001b[0mcore.init: \u001b[0mRosetta version: PyRosetta4.Release.python38.ubuntu r281 2021.17+release.b66bab60517 b66bab60517eb4a467673f249a8cd2cff65f9f1d http://www.pyrosetta.org 2021-04-27T18:35:05\n",
      "\u001b[0mcore.init: \u001b[0mcommand: PyRosetta -mute basic.io.database core.import_pose core.scoring core.chemical.GlobalResidueTypeSet core.pack.task core.pack.pack_rotamers core.pack.dunbrack.RotamerLibrary protocols.relax.FastRelax core.pack.interaction_graph.interaction_graph_factory -database /usr/local/lib/python3.8/dist-packages/pyrosetta-2021.17+release.b66bab60517-py3.8-linux-x86_64.egg/pyrosetta/database\n",
      "\u001b[0mbasic.random.init_random_generator: \u001b[0m'RNG device' seed mode, using '/dev/urandom', seed=-1845541429 seed_offset=0 real_seed=-1845541429\n",
      "\u001b[0mbasic.random.init_random_generator: \u001b[0mRandomGenerator:init: Normal mode, seed=-1845541429 RG_type=mt19937\n",
      "PyRosetta-4 2021 [Rosetta PyRosetta4.Release.python38.ubuntu 2021.17+release.b66bab60517eb4a467673f249a8cd2cff65f9f1d 2021-04-27T18:35:05] retrieved from: http://www.pyrosetta.org\n",
      "(C) Copyright Rosetta Commons Member Institutions. Created in JHU by Sergey Lyskov and PyRosetta Team.\n",
      "\u001b[0mcore.init: \u001b[0mChecking for fconfig files in pwd and ./rosetta/flags\n",
      "\u001b[0mcore.init: \u001b[0mRosetta version: PyRosetta4.Release.python38.ubuntu r281 2021.17+release.b66bab60517 b66bab60517eb4a467673f249a8cd2cff65f9f1d http://www.pyrosetta.org 2021-04-27T18:35:05\n",
      "\u001b[0mcore.init: \u001b[0mcommand: PyRosetta -mute core.import_pose core.pack.task core.pack.pack_rotamers protocols.relax.FastRelax core.pack.interaction_graph.interaction_graph_factory -database /usr/local/lib/python3.8/dist-packages/pyrosetta-2021.17+release.b66bab60517-py3.8-linux-x86_64.egg/pyrosetta/database\n",
      "\u001b[0mbasic.random.init_random_generator: \u001b[0m'RNG device' seed mode, using '/dev/urandom', seed=162392837 seed_offset=0 real_seed=162392837\n",
      "\u001b[0mbasic.random.init_random_generator: \u001b[0mRandomGenerator:init: Normal mode, seed=162392837 RG_type=mt19937\n"
     ]
    }
   ],
   "source": [
    "# requries pyrosetta\n",
    "\n",
    "import pyREX\n",
    "import pyREX.misc as misc\n",
    "import pyREX.analysis.analysis as ana\n",
    "import pyREX.decoy.abinitio as abi\n",
    "from pyrosetta.rosetta import protocols\n",
    "import pyrosetta\n",
    "import multiprocessing\n",
    "pyrosetta.init(\"-mute core.import_pose core.pack.task core.pack.pack_rotamers protocols.relax.FastRelax core.pack.interaction_graph.interaction_graph_factory\")  # mute messages"
   ]
  },
  {
   "cell_type": "code",
   "execution_count": 2,
   "id": "5760166e",
   "metadata": {},
   "outputs": [
    {
     "name": "stdout",
     "output_type": "stream",
     "text": [
      "Polypeptide 1 FASTA: TIDQWLLKNAKEDAIAELKKAGITSDFYFNAINKAKTVEEVNALKNEILKAHA\n",
      "\u001b[34m\n",
      "cfg settings:\u001b[0m\n",
      "key                 value               \n",
      "\n",
      "pdbid               1prb\n",
      "fasta_seq           TIDQWLLKNAKEDAIAELKKAGITSDFYFNAINKAKTVEEVNALKNEILKAHA\n",
      "fasta_seq_len       53\n",
      "frag3mer            files/decoy/fragment_files/aat000_03_05.200_v1_3\n",
      "frag9mer            files/decoy/fragment_files/aat000_09_05.200_v1_3\n",
      "frag3inserts        3\n",
      "frag9inserts        1\n",
      "folding_cycles      1000\n",
      "folding_repeats     10\n",
      "job_name            1prb\n",
      "n_decoys            5\n",
      "n_cores             5\n",
      "decoy_ndx_shift     0\n",
      "kT                  1.0\n",
      "\n"
     ]
    }
   ],
   "source": [
    "root = \"files/decoy\"\n",
    "pdb_file = f\"{root}/1prb.pdb\"\n",
    "pdbid = ana.get_PDBid(pdb_file)\n",
    "fasta_seq = ana.get_FASTA(pdb_file, verbose=True)[0]\n",
    "frag3mer = f\"{root}/fragment_files/aat000_03_05.200_v1_3\"\n",
    "frag9mer = f\"{root}/fragment_files/aat000_09_05.200_v1_3\"\n",
    "kwargs = {\"n_decoys\" : 10,\n",
    "          \"n_cores\": 5}\n",
    "\n",
    "misc.cprint(\"\\ncfg settings:\", \"blue\")\n",
    "cfg = abi.setup_abinitio_cfg(pdbid, fasta_seq, frag3mer, frag9mer=frag9mer, **kwargs)\n",
    "cfg()"
   ]
  },
  {
   "cell_type": "code",
   "execution_count": null,
   "id": "1d95da3a",
   "metadata": {},
   "outputs": [],
   "source": [
    "list(range(10))"
   ]
  },
  {
   "cell_type": "code",
   "execution_count": null,
   "id": "c0d32c47",
   "metadata": {},
   "outputs": [],
   "source": [
    "abi.create_decoys(cfg, output_dir=f\"{root}/set1\")"
   ]
  },
  {
   "cell_type": "code",
   "execution_count": null,
   "id": "85836132",
   "metadata": {},
   "outputs": [],
   "source": []
  },
  {
   "cell_type": "code",
   "execution_count": null,
   "id": "ab5cb516",
   "metadata": {},
   "outputs": [],
   "source": [
    "S_low, S_high = abi._create_decoys(cfg, output_dir=f\"{root}/set1\")"
   ]
  },
  {
   "cell_type": "code",
   "execution_count": null,
   "id": "1f4ba466",
   "metadata": {},
   "outputs": [],
   "source": []
  }
 ],
 "metadata": {
  "kernelspec": {
   "display_name": "Python 3",
   "language": "python",
   "name": "python3"
  },
  "language_info": {
   "codemirror_mode": {
    "name": "ipython",
    "version": 3
   },
   "file_extension": ".py",
   "mimetype": "text/x-python",
   "name": "python",
   "nbconvert_exporter": "python",
   "pygments_lexer": "ipython3",
   "version": "3.8.5"
  }
 },
 "nbformat": 4,
 "nbformat_minor": 5
}
